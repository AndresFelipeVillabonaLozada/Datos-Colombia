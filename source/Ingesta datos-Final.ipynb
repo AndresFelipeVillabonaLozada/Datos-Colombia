{
 "cells": [
  {
   "cell_type": "markdown",
   "metadata": {},
   "source": [
    "# Código Inicial\n",
    "\n",
    "#### El propósito del código es abrir el archivo del cruce de los dos siguientes archivos:\n",
    "####  * anexos-proyecciones-poblacion-area-sexo-2018-2023 (1) -> Población por dpto, mpio (ciudad), sexo\n",
    "####  * anexos-proyecciones-pob-dptos-area-grupos-de-edad-2018-2023 -> Población por dpto, edad, sexo\n",
    "\n",
    "#### El archivo que contiene el cruce de esos dos archivos es el siguiente:\n",
    "####  * Inicial\n",
    "\n",
    "#### Dado que se debía hacer un ajuste adicional, para que los grupos de edad no estuvieran como columnas, se utilizó Power Bi para ese procedimiento.\n",
    "\n",
    "#### El output de la transformación de datos de Power Bi es el siguiente:\n",
    "####  * Inicial_agregado"
   ]
  },
  {
   "cell_type": "markdown",
   "metadata": {},
   "source": [
    "Cargo librerias necesarias para hacer transformaciones"
   ]
  },
  {
   "cell_type": "code",
   "execution_count": 1,
   "metadata": {},
   "outputs": [],
   "source": [
    "import pandas as pd\n",
    "import time\n",
    "import numpy as np\n",
    "import dask.dataframe as dd"
   ]
  },
  {
   "cell_type": "markdown",
   "metadata": {},
   "source": [
    "## 1. Procedimiento con el archivo Inicial_agregado"
   ]
  },
  {
   "cell_type": "markdown",
   "metadata": {},
   "source": [
    "Leo archivo Inicial_agregado"
   ]
  },
  {
   "cell_type": "code",
   "execution_count": 2,
   "metadata": {},
   "outputs": [],
   "source": [
    "dane = pd.read_excel(r\"C:\\Users\\NicolasBernal\\Documents\\GitHub\\Datos-Colombia\\input\\Inicial_agregado.xlsx\")"
   ]
  },
  {
   "cell_type": "markdown",
   "metadata": {},
   "source": [
    "# Código correcto"
   ]
  },
  {
   "cell_type": "markdown",
   "metadata": {},
   "source": [
    "Genero una lista con el número total de población por Departamento, Municipio (Ciudad), Sexo y Grupo de Edad"
   ]
  },
  {
   "cell_type": "code",
   "execution_count": 3,
   "metadata": {
    "scrolled": true
   },
   "outputs": [],
   "source": [
    "reps = dane.iloc[:,5].tolist()\n",
    "#reps"
   ]
  },
  {
   "cell_type": "code",
   "execution_count": 4,
   "metadata": {},
   "outputs": [],
   "source": [
    "newdane = dane"
   ]
  },
  {
   "cell_type": "markdown",
   "metadata": {},
   "source": [
    "Repito cada fila del DataFrame según la cantidad de repeticiones. Las repeticiones contiene la cantidad de personas para las diferentes conbinaciones de categorias"
   ]
  },
  {
   "cell_type": "code",
   "execution_count": 5,
   "metadata": {},
   "outputs": [
    {
     "name": "stdout",
     "output_type": "stream",
     "text": [
      "6.8599742999999975 seconds\n"
     ]
    }
   ],
   "source": [
    "start_time = time.perf_counter()\n",
    "\n",
    "newdane = newdane.loc[np.repeat(newdane.index.values, reps)]\n",
    "\n",
    "print (time.perf_counter() - start_time, \"seconds\")"
   ]
  },
  {
   "cell_type": "markdown",
   "metadata": {},
   "source": [
    "Reseteo el índice del DataFrame"
   ]
  },
  {
   "cell_type": "code",
   "execution_count": 7,
   "metadata": {},
   "outputs": [],
   "source": [
    "newdane = newdane.reset_index()"
   ]
  },
  {
   "cell_type": "markdown",
   "metadata": {},
   "source": [
    "Le asigno a la columna Personas el valor de 1. Dado que ahora cada fila es una persona"
   ]
  },
  {
   "cell_type": "code",
   "execution_count": 9,
   "metadata": {},
   "outputs": [],
   "source": [
    "newdane[\"Personas\"] = 1"
   ]
  },
  {
   "cell_type": "code",
   "execution_count": 10,
   "metadata": {
    "scrolled": true
   },
   "outputs": [],
   "source": [
    "newdane['index'] = newdane.index"
   ]
  },
  {
   "cell_type": "markdown",
   "metadata": {},
   "source": [
    "Se realiza algunas agrupaciones para ver si lo realizado fue correcto"
   ]
  },
  {
   "cell_type": "code",
   "execution_count": 12,
   "metadata": {
    "scrolled": true
   },
   "outputs": [],
   "source": [
    "#print(newdane.groupby(['NOMBRE MPIO', 'SEXOS', 'Rango Edad']).count())"
   ]
  },
  {
   "cell_type": "markdown",
   "metadata": {},
   "source": [
    "Se deben realizar ajustes a la base de datos Dummie de población de Colombia, con el fin de cruzarla con el de contagiados nacionalmente.\n",
    "\n",
    "Primero se cambian los valores de SEXOS de la tabla de datos Dummie."
   ]
  },
  {
   "cell_type": "code",
   "execution_count": 13,
   "metadata": {},
   "outputs": [],
   "source": [
    "newdane['SEXOS'].replace({'HOMBRES': 'M', 'MUJERES': 'F'}, inplace = True)"
   ]
  },
  {
   "cell_type": "markdown",
   "metadata": {},
   "source": [
    "Cambio el typo de variable de COD_MPIO"
   ]
  },
  {
   "cell_type": "code",
   "execution_count": 15,
   "metadata": {},
   "outputs": [],
   "source": [
    "newdane['COD_MPIO'] = newdane['COD_MPIO'].apply(str)"
   ]
  },
  {
   "cell_type": "code",
   "execution_count": 18,
   "metadata": {},
   "outputs": [],
   "source": [
    "newdane.rename(columns={'Rango Edad': \"Rango_Edad\"}, inplace = True)"
   ]
  },
  {
   "cell_type": "code",
   "execution_count": 20,
   "metadata": {},
   "outputs": [],
   "source": [
    "newdane[\"id_persona_por_llave\"] = newdane.groupby(['Rango_Edad', 'SEXOS', 'COD_MPIO'])['Personas'].cumsum()"
   ]
  },
  {
   "cell_type": "markdown",
   "metadata": {},
   "source": [
    "### Success!"
   ]
  },
  {
   "cell_type": "code",
   "execution_count": 22,
   "metadata": {},
   "outputs": [],
   "source": [
    "df = np.array_split(newdane, 10)"
   ]
  },
  {
   "cell_type": "code",
   "execution_count": 23,
   "metadata": {},
   "outputs": [],
   "source": [
    "df[0].to_csv(r\"C:\\Users\\NicolasBernal\\Documents\\GitHub\\Datos-Colombia\\input\\Inicial_0_terminado.csv\", index = False)\n",
    "df[1].to_csv(r\"C:\\Users\\NicolasBernal\\Documents\\GitHub\\Datos-Colombia\\input\\Inicial_1_terminado.csv\", index = False)\n",
    "df[2].to_csv(r\"C:\\Users\\NicolasBernal\\Documents\\GitHub\\Datos-Colombia\\input\\Inicial_2_terminado.csv\", index = False)\n",
    "df[3].to_csv(r\"C:\\Users\\NicolasBernal\\Documents\\GitHub\\Datos-Colombia\\input\\Inicial_3_terminado.csv\", index = False)\n",
    "df[4].to_csv(r\"C:\\Users\\NicolasBernal\\Documents\\GitHub\\Datos-Colombia\\input\\Inicial_4_terminado.csv\", index = False)\n",
    "df[5].to_csv(r\"C:\\Users\\NicolasBernal\\Documents\\GitHub\\Datos-Colombia\\input\\Inicial_5_terminado.csv\", index = False)\n",
    "df[6].to_csv(r\"C:\\Users\\NicolasBernal\\Documents\\GitHub\\Datos-Colombia\\input\\Inicial_6_terminado.csv\", index = False)\n",
    "df[7].to_csv(r\"C:\\Users\\NicolasBernal\\Documents\\GitHub\\Datos-Colombia\\input\\Inicial_7_terminado.csv\", index = False)\n",
    "df[8].to_csv(r\"C:\\Users\\NicolasBernal\\Documents\\GitHub\\Datos-Colombia\\input\\Inicial_8_terminado.csv\", index = False)\n",
    "df[9].to_csv(r\"C:\\Users\\NicolasBernal\\Documents\\GitHub\\Datos-Colombia\\input\\Inicial_9_terminado.csv\", index = False)"
   ]
  },
  {
   "cell_type": "markdown",
   "metadata": {},
   "source": [
    "## 2. Procedimiento con el archivo oficial de contagiados"
   ]
  },
  {
   "cell_type": "markdown",
   "metadata": {},
   "source": [
    "Leo el archivo oficial de contagiados con COVID-19"
   ]
  },
  {
   "cell_type": "code",
   "execution_count": 24,
   "metadata": {},
   "outputs": [],
   "source": [
    "oficial = pd.read_csv(r\"C:\\Users\\NicolasBernal\\Documents\\GitHub\\Datos-Colombia\\input\\Casos_positivos_de_COVID-19_en_Colombia.csv\",\n",
    "                     sep = \";\")"
   ]
  },
  {
   "cell_type": "code",
   "execution_count": 26,
   "metadata": {},
   "outputs": [],
   "source": [
    "oficial['Edad_2'] = oficial['Edad']"
   ]
  },
  {
   "cell_type": "markdown",
   "metadata": {},
   "source": [
    "Cambio la edad por los rangos de edad del DANE"
   ]
  },
  {
   "cell_type": "code",
   "execution_count": 27,
   "metadata": {},
   "outputs": [],
   "source": [
    "oficial['Edad'] = np.where(oficial['Edad_2'] <= 4, '00-04', oficial['Edad'])\n",
    "oficial['Edad'] = np.where((oficial['Edad_2'] > 4) & (oficial['Edad_2'] <= 9), '05-09', oficial['Edad'])\n",
    "oficial['Edad'] = np.where((oficial['Edad_2'] > 9) & (oficial['Edad_2'] <= 14), '10-14', oficial['Edad'])\n",
    "oficial['Edad'] = np.where((oficial['Edad_2'] > 14) & (oficial['Edad_2'] <= 19), '15-19', oficial['Edad'])\n",
    "oficial['Edad'] = np.where((oficial['Edad_2'] > 19) & (oficial['Edad_2'] <= 24), '20-24', oficial['Edad'])\n",
    "oficial['Edad'] = np.where((oficial['Edad_2'] > 24) & (oficial['Edad_2'] <= 29), '25-29', oficial['Edad'])\n",
    "oficial['Edad'] = np.where((oficial['Edad_2'] > 29) & (oficial['Edad_2'] <= 34), '30-34', oficial['Edad'])\n",
    "oficial['Edad'] = np.where((oficial['Edad_2'] > 34) & (oficial['Edad_2'] <= 39), '35-39', oficial['Edad'])\n",
    "oficial['Edad'] = np.where((oficial['Edad_2'] > 39) & (oficial['Edad_2'] <= 44), '40-44', oficial['Edad'])\n",
    "oficial['Edad'] = np.where((oficial['Edad_2'] > 44) & (oficial['Edad_2'] <= 49), '45-49', oficial['Edad'])\n",
    "oficial['Edad'] = np.where((oficial['Edad_2'] > 49) & (oficial['Edad_2'] <= 54), '50-54', oficial['Edad'])\n",
    "oficial['Edad'] = np.where((oficial['Edad_2'] > 54) & (oficial['Edad_2'] <= 59), '55-59', oficial['Edad'])\n",
    "oficial['Edad'] = np.where((oficial['Edad_2'] > 59) & (oficial['Edad_2'] <= 64), '60-64', oficial['Edad'])\n",
    "oficial['Edad'] = np.where((oficial['Edad_2'] > 64) & (oficial['Edad_2'] <= 69), '65-69', oficial['Edad'])\n",
    "oficial['Edad'] = np.where((oficial['Edad_2'] > 69) & (oficial['Edad_2'] <= 74), '70-74', oficial['Edad'])\n",
    "oficial['Edad'] = np.where((oficial['Edad_2'] > 74) & (oficial['Edad_2'] <= 79), '75-79', oficial['Edad'])\n",
    "oficial['Edad'] = np.where((oficial['Edad_2'] > 79) & (oficial['Edad_2'] <= 84), '80-84', oficial['Edad'])\n",
    "oficial['Edad'] = np.where((oficial['Edad_2'] > 84) & (oficial['Edad_2'] <= 89), '85-89', oficial['Edad'])\n",
    "oficial['Edad'] = np.where((oficial['Edad_2'] > 89) & (oficial['Edad_2'] <= 94), '90-94', oficial['Edad'])\n",
    "oficial['Edad'] = np.where((oficial['Edad_2'] > 94) & (oficial['Edad_2'] <= 99), '95-99', oficial['Edad'])\n",
    "oficial['Edad'] = np.where((oficial['Edad_2'] > 99), '100 AÑOS Y MÁS', oficial['Edad'])"
   ]
  },
  {
   "cell_type": "markdown",
   "metadata": {},
   "source": [
    "Se cambia el tipo de la variable Codigo DIVIPOLA por string para hacer llaves y cruce."
   ]
  },
  {
   "cell_type": "code",
   "execution_count": 28,
   "metadata": {},
   "outputs": [],
   "source": [
    "oficial['Codigo DIVIPOLA'] = oficial['Codigo DIVIPOLA'].apply(str)"
   ]
  },
  {
   "cell_type": "code",
   "execution_count": 29,
   "metadata": {},
   "outputs": [],
   "source": [
    "oficial['Personas'] = 1"
   ]
  },
  {
   "cell_type": "code",
   "execution_count": 30,
   "metadata": {},
   "outputs": [],
   "source": [
    "oficial[\"id_persona_por_llave\"] = oficial.groupby(['Edad', 'Sexo', 'Codigo DIVIPOLA'])['Personas'].cumsum()"
   ]
  },
  {
   "cell_type": "code",
   "execution_count": 34,
   "metadata": {},
   "outputs": [],
   "source": [
    "oficial.to_csv(r\"C:\\Users\\NicolasBernal\\Documents\\GitHub\\Datos-Colombia\\input\\Oficial_terminado.csv\", index = False)"
   ]
  },
  {
   "cell_type": "code",
   "execution_count": 35,
   "metadata": {},
   "outputs": [],
   "source": [
    "del dane\n",
    "del reps"
   ]
  },
  {
   "cell_type": "markdown",
   "metadata": {},
   "source": [
    "## 3. Uno la tabla de Dummies Colombia y la tabla de infectados Oficial Colombia"
   ]
  },
  {
   "cell_type": "markdown",
   "metadata": {},
   "source": [
    "Se crea la llave para unir las tablas"
   ]
  },
  {
   "cell_type": "code",
   "execution_count": 36,
   "metadata": {},
   "outputs": [],
   "source": [
    "newdane = pd.read_csv(r\"C:\\Users\\NicolasBernal\\Documents\\GitHub\\Datos-Colombia\\input\\Inicial_0_terminado.csv\")"
   ]
  },
  {
   "cell_type": "code",
   "execution_count": 37,
   "metadata": {},
   "outputs": [],
   "source": [
    "oficial = pd.read_csv(r\"C:\\Users\\NicolasBernal\\Documents\\GitHub\\Datos-Colombia\\input\\Oficial_terminado.csv\")"
   ]
  },
  {
   "cell_type": "code",
   "execution_count": 39,
   "metadata": {},
   "outputs": [],
   "source": [
    "newdane['COD_MPIO'] = newdane['COD_MPIO'].apply(str)\n",
    "oficial['Codigo DIVIPOLA'] = oficial['Codigo DIVIPOLA'].apply(str)"
   ]
  },
  {
   "cell_type": "code",
   "execution_count": 40,
   "metadata": {},
   "outputs": [],
   "source": [
    "newdane['Key'] = newdane['Rango_Edad'] + \"_\" + newdane['SEXOS'] + \"_\" + newdane['COD_MPIO']\n",
    "oficial['Key'] = oficial['Edad'] + \"_\" + oficial['Sexo'] + \"_\" + oficial['Codigo DIVIPOLA']"
   ]
  },
  {
   "cell_type": "code",
   "execution_count": 42,
   "metadata": {},
   "outputs": [],
   "source": [
    "newdane['Key'] = newdane['Key'] + \"_\" + newdane[\"id_persona_por_llave\"].apply(str)\n",
    "oficial['Key'] = oficial['Key'] + \"_\" + oficial[\"id_persona_por_llave\"].apply(str)"
   ]
  },
  {
   "cell_type": "code",
   "execution_count": 43,
   "metadata": {},
   "outputs": [],
   "source": [
    "#consolidado = pd.merge(newdane, oficial, on='Key', how='inner')\n",
    "consolidado = pd.merge(newdane, oficial, on='Key', how='left') #Con esto mantengo los registros de dummies"
   ]
  },
  {
   "cell_type": "code",
   "execution_count": 44,
   "metadata": {},
   "outputs": [],
   "source": [
    "del newdane\n",
    "del oficial"
   ]
  },
  {
   "cell_type": "code",
   "execution_count": 47,
   "metadata": {
    "scrolled": true
   },
   "outputs": [],
   "source": [
    "consolidado = consolidado.sort_values('index',ascending=True)"
   ]
  },
  {
   "cell_type": "code",
   "execution_count": 48,
   "metadata": {},
   "outputs": [
    {
     "data": {
      "text/plain": [
       "False"
      ]
     },
     "execution_count": 48,
     "metadata": {},
     "output_type": "execute_result"
    }
   ],
   "source": [
    "boolean = consolidado['Key'].duplicated().any()\n",
    "boolean"
   ]
  },
  {
   "cell_type": "code",
   "execution_count": 49,
   "metadata": {},
   "outputs": [
    {
     "data": {
      "text/html": [
       "<div>\n",
       "<style scoped>\n",
       "    .dataframe tbody tr th:only-of-type {\n",
       "        vertical-align: middle;\n",
       "    }\n",
       "\n",
       "    .dataframe tbody tr th {\n",
       "        vertical-align: top;\n",
       "    }\n",
       "\n",
       "    .dataframe thead th {\n",
       "        text-align: right;\n",
       "    }\n",
       "</style>\n",
       "<table border=\"1\" class=\"dataframe\">\n",
       "  <thead>\n",
       "    <tr style=\"text-align: right;\">\n",
       "      <th></th>\n",
       "      <th>index</th>\n",
       "      <th>NOMBRE DPTO</th>\n",
       "      <th>COD_MPIO</th>\n",
       "      <th>NOMBRE MPIO</th>\n",
       "      <th>SEXOS</th>\n",
       "      <th>Rango_Edad</th>\n",
       "      <th>Personas_x</th>\n",
       "      <th>id_persona_por_llave_x</th>\n",
       "      <th>Key</th>\n",
       "      <th>ID de caso</th>\n",
       "      <th>...</th>\n",
       "      <th>Estado</th>\n",
       "      <th>País de procedencia</th>\n",
       "      <th>FIS</th>\n",
       "      <th>Fecha de muerte</th>\n",
       "      <th>Fecha diagnostico</th>\n",
       "      <th>Fecha recuperado</th>\n",
       "      <th>fecha reporte web</th>\n",
       "      <th>Edad_2</th>\n",
       "      <th>Personas_y</th>\n",
       "      <th>id_persona_por_llave_y</th>\n",
       "    </tr>\n",
       "  </thead>\n",
       "  <tbody>\n",
       "  </tbody>\n",
       "</table>\n",
       "<p>0 rows × 28 columns</p>\n",
       "</div>"
      ],
      "text/plain": [
       "Empty DataFrame\n",
       "Columns: [index, NOMBRE DPTO, COD_MPIO, NOMBRE MPIO, SEXOS, Rango_Edad, Personas_x, id_persona_por_llave_x, Key, ID de caso, Fecha de notificación, Codigo DIVIPOLA, Ciudad de ubicación, Departamento o Distrito , atención, Edad, Sexo, Tipo, Estado, País de procedencia, FIS, Fecha de muerte, Fecha diagnostico, Fecha recuperado, fecha reporte web, Edad_2, Personas_y, id_persona_por_llave_y]\n",
       "Index: []\n",
       "\n",
       "[0 rows x 28 columns]"
      ]
     },
     "execution_count": 49,
     "metadata": {},
     "output_type": "execute_result"
    }
   ],
   "source": [
    "duplicateRowsDF = consolidado[consolidado['Key'].duplicated()]\n",
    "duplicateRowsDF"
   ]
  },
  {
   "cell_type": "code",
   "execution_count": 50,
   "metadata": {},
   "outputs": [],
   "source": [
    "consolidado.to_csv(r\"C:\\Users\\NicolasBernal\\Documents\\GitHub\\Datos-Colombia\\input\\Consolidado_0.csv\", index = False)"
   ]
  },
  {
   "cell_type": "code",
   "execution_count": 51,
   "metadata": {},
   "outputs": [],
   "source": [
    "del consolidado"
   ]
  },
  {
   "cell_type": "markdown",
   "metadata": {},
   "source": [
    "### Segundo paquete de Dummies"
   ]
  },
  {
   "cell_type": "code",
   "execution_count": 55,
   "metadata": {},
   "outputs": [],
   "source": [
    "newdane = pd.read_csv(r\"C:\\Users\\NicolasBernal\\Documents\\GitHub\\Datos-Colombia\\input\\Inicial_1_terminado.csv\")"
   ]
  },
  {
   "cell_type": "code",
   "execution_count": 56,
   "metadata": {},
   "outputs": [],
   "source": [
    "oficial = pd.read_csv(r\"C:\\Users\\NicolasBernal\\Documents\\GitHub\\Datos-Colombia\\input\\Oficial_terminado.csv\")"
   ]
  },
  {
   "cell_type": "code",
   "execution_count": 58,
   "metadata": {},
   "outputs": [],
   "source": [
    "newdane['COD_MPIO'] = newdane['COD_MPIO'].apply(str)\n",
    "oficial['Codigo DIVIPOLA'] = oficial['Codigo DIVIPOLA'].apply(str)"
   ]
  },
  {
   "cell_type": "code",
   "execution_count": 59,
   "metadata": {},
   "outputs": [],
   "source": [
    "newdane['Key'] = newdane['Rango_Edad'] + \"_\" + newdane['SEXOS'] + \"_\" + newdane['COD_MPIO']\n",
    "oficial['Key'] = oficial['Edad'] + \"_\" + oficial['Sexo'] + \"_\" + oficial['Codigo DIVIPOLA']"
   ]
  },
  {
   "cell_type": "code",
   "execution_count": 61,
   "metadata": {},
   "outputs": [],
   "source": [
    "newdane['Key'] = newdane['Key'] + \"_\" + newdane[\"id_persona_por_llave\"].apply(str)\n",
    "oficial['Key'] = oficial['Key'] + \"_\" + oficial[\"id_persona_por_llave\"].apply(str)"
   ]
  },
  {
   "cell_type": "code",
   "execution_count": 62,
   "metadata": {},
   "outputs": [],
   "source": [
    "#consolidado = pd.merge(newdane, oficial, on='Key', how='inner')\n",
    "consolidado = pd.merge(newdane, oficial, on='Key', how='left') #Con esto mantengo los registros de dummies"
   ]
  },
  {
   "cell_type": "code",
   "execution_count": 63,
   "metadata": {},
   "outputs": [],
   "source": [
    "del newdane\n",
    "del oficial"
   ]
  },
  {
   "cell_type": "code",
   "execution_count": 66,
   "metadata": {
    "scrolled": true
   },
   "outputs": [],
   "source": [
    "consolidado = consolidado.sort_values('index',ascending=True)"
   ]
  },
  {
   "cell_type": "code",
   "execution_count": 67,
   "metadata": {},
   "outputs": [
    {
     "data": {
      "text/plain": [
       "False"
      ]
     },
     "execution_count": 67,
     "metadata": {},
     "output_type": "execute_result"
    }
   ],
   "source": [
    "boolean = consolidado['Key'].duplicated().any()\n",
    "boolean"
   ]
  },
  {
   "cell_type": "code",
   "execution_count": 68,
   "metadata": {},
   "outputs": [
    {
     "data": {
      "text/html": [
       "<div>\n",
       "<style scoped>\n",
       "    .dataframe tbody tr th:only-of-type {\n",
       "        vertical-align: middle;\n",
       "    }\n",
       "\n",
       "    .dataframe tbody tr th {\n",
       "        vertical-align: top;\n",
       "    }\n",
       "\n",
       "    .dataframe thead th {\n",
       "        text-align: right;\n",
       "    }\n",
       "</style>\n",
       "<table border=\"1\" class=\"dataframe\">\n",
       "  <thead>\n",
       "    <tr style=\"text-align: right;\">\n",
       "      <th></th>\n",
       "      <th>index</th>\n",
       "      <th>NOMBRE DPTO</th>\n",
       "      <th>COD_MPIO</th>\n",
       "      <th>NOMBRE MPIO</th>\n",
       "      <th>SEXOS</th>\n",
       "      <th>Rango_Edad</th>\n",
       "      <th>Personas_x</th>\n",
       "      <th>id_persona_por_llave_x</th>\n",
       "      <th>Key</th>\n",
       "      <th>ID de caso</th>\n",
       "      <th>...</th>\n",
       "      <th>Estado</th>\n",
       "      <th>País de procedencia</th>\n",
       "      <th>FIS</th>\n",
       "      <th>Fecha de muerte</th>\n",
       "      <th>Fecha diagnostico</th>\n",
       "      <th>Fecha recuperado</th>\n",
       "      <th>fecha reporte web</th>\n",
       "      <th>Edad_2</th>\n",
       "      <th>Personas_y</th>\n",
       "      <th>id_persona_por_llave_y</th>\n",
       "    </tr>\n",
       "  </thead>\n",
       "  <tbody>\n",
       "  </tbody>\n",
       "</table>\n",
       "<p>0 rows × 28 columns</p>\n",
       "</div>"
      ],
      "text/plain": [
       "Empty DataFrame\n",
       "Columns: [index, NOMBRE DPTO, COD_MPIO, NOMBRE MPIO, SEXOS, Rango_Edad, Personas_x, id_persona_por_llave_x, Key, ID de caso, Fecha de notificación, Codigo DIVIPOLA, Ciudad de ubicación, Departamento o Distrito , atención, Edad, Sexo, Tipo, Estado, País de procedencia, FIS, Fecha de muerte, Fecha diagnostico, Fecha recuperado, fecha reporte web, Edad_2, Personas_y, id_persona_por_llave_y]\n",
       "Index: []\n",
       "\n",
       "[0 rows x 28 columns]"
      ]
     },
     "execution_count": 68,
     "metadata": {},
     "output_type": "execute_result"
    }
   ],
   "source": [
    "duplicateRowsDF = consolidado[consolidado['Key'].duplicated()]\n",
    "duplicateRowsDF"
   ]
  },
  {
   "cell_type": "code",
   "execution_count": 69,
   "metadata": {},
   "outputs": [],
   "source": [
    "consolidado.to_csv(r\"C:\\Users\\NicolasBernal\\Documents\\GitHub\\Datos-Colombia\\input\\Consolidado_1.csv\", index = False)"
   ]
  },
  {
   "cell_type": "code",
   "execution_count": 70,
   "metadata": {},
   "outputs": [],
   "source": [
    "del consolidado"
   ]
  },
  {
   "cell_type": "markdown",
   "metadata": {},
   "source": [
    "### Uno los Consolidados"
   ]
  },
  {
   "cell_type": "code",
   "execution_count": 71,
   "metadata": {},
   "outputs": [
    {
     "name": "stderr",
     "output_type": "stream",
     "text": [
      "C:\\Users\\NicolasBernal\\AppData\\Local\\Continuum\\anaconda3\\lib\\site-packages\\IPython\\core\\interactiveshell.py:3058: DtypeWarning: Columns (10,12,13,14,15,16,17,18,19,20,21,22,23,24) have mixed types. Specify dtype option on import or set low_memory=False.\n",
      "  interactivity=interactivity, compiler=compiler, result=result)\n"
     ]
    }
   ],
   "source": [
    "consolidado_0 = pd.read_csv(r\"C:\\Users\\NicolasBernal\\Documents\\GitHub\\Datos-Colombia\\input\\Consolidado_0.csv\")"
   ]
  },
  {
   "cell_type": "code",
   "execution_count": 72,
   "metadata": {},
   "outputs": [],
   "source": [
    "consolidado_1 = pd.read_csv(r\"C:\\Users\\NicolasBernal\\Documents\\GitHub\\Datos-Colombia\\input\\Consolidado_1.csv\")"
   ]
  },
  {
   "cell_type": "code",
   "execution_count": 73,
   "metadata": {},
   "outputs": [],
   "source": [
    "consolidado_0_1 = consolidado_0.append(consolidado_1)"
   ]
  },
  {
   "cell_type": "code",
   "execution_count": 74,
   "metadata": {},
   "outputs": [],
   "source": [
    "del consolidado_0\n",
    "del consolidado_1"
   ]
  },
  {
   "cell_type": "code",
   "execution_count": 75,
   "metadata": {},
   "outputs": [
    {
     "data": {
      "text/plain": [
       "(10074486, 28)"
      ]
     },
     "execution_count": 75,
     "metadata": {},
     "output_type": "execute_result"
    }
   ],
   "source": [
    "consolidado_0_1.shape"
   ]
  },
  {
   "cell_type": "code",
   "execution_count": 78,
   "metadata": {},
   "outputs": [
    {
     "data": {
      "text/plain": [
       "False"
      ]
     },
     "execution_count": 78,
     "metadata": {},
     "output_type": "execute_result"
    }
   ],
   "source": [
    "boolean = consolidado_0_1['index'].duplicated().any()\n",
    "boolean"
   ]
  },
  {
   "cell_type": "code",
   "execution_count": 79,
   "metadata": {},
   "outputs": [
    {
     "data": {
      "text/html": [
       "<div>\n",
       "<style scoped>\n",
       "    .dataframe tbody tr th:only-of-type {\n",
       "        vertical-align: middle;\n",
       "    }\n",
       "\n",
       "    .dataframe tbody tr th {\n",
       "        vertical-align: top;\n",
       "    }\n",
       "\n",
       "    .dataframe thead th {\n",
       "        text-align: right;\n",
       "    }\n",
       "</style>\n",
       "<table border=\"1\" class=\"dataframe\">\n",
       "  <thead>\n",
       "    <tr style=\"text-align: right;\">\n",
       "      <th></th>\n",
       "      <th>index</th>\n",
       "      <th>NOMBRE DPTO</th>\n",
       "      <th>COD_MPIO</th>\n",
       "      <th>NOMBRE MPIO</th>\n",
       "      <th>SEXOS</th>\n",
       "      <th>Rango_Edad</th>\n",
       "      <th>Personas_x</th>\n",
       "      <th>id_persona_por_llave_x</th>\n",
       "      <th>Key</th>\n",
       "      <th>ID de caso</th>\n",
       "      <th>...</th>\n",
       "      <th>Estado</th>\n",
       "      <th>País de procedencia</th>\n",
       "      <th>FIS</th>\n",
       "      <th>Fecha de muerte</th>\n",
       "      <th>Fecha diagnostico</th>\n",
       "      <th>Fecha recuperado</th>\n",
       "      <th>fecha reporte web</th>\n",
       "      <th>Edad_2</th>\n",
       "      <th>Personas_y</th>\n",
       "      <th>id_persona_por_llave_y</th>\n",
       "    </tr>\n",
       "  </thead>\n",
       "  <tbody>\n",
       "  </tbody>\n",
       "</table>\n",
       "<p>0 rows × 28 columns</p>\n",
       "</div>"
      ],
      "text/plain": [
       "Empty DataFrame\n",
       "Columns: [index, NOMBRE DPTO, COD_MPIO, NOMBRE MPIO, SEXOS, Rango_Edad, Personas_x, id_persona_por_llave_x, Key, ID de caso, Fecha de notificación, Codigo DIVIPOLA, Ciudad de ubicación, Departamento o Distrito , atención, Edad, Sexo, Tipo, Estado, País de procedencia, FIS, Fecha de muerte, Fecha diagnostico, Fecha recuperado, fecha reporte web, Edad_2, Personas_y, id_persona_por_llave_y]\n",
       "Index: []\n",
       "\n",
       "[0 rows x 28 columns]"
      ]
     },
     "execution_count": 79,
     "metadata": {},
     "output_type": "execute_result"
    }
   ],
   "source": [
    "duplicateRowsDF = consolidado_0_1[consolidado_0_1['index'].duplicated()]\n",
    "duplicateRowsDF"
   ]
  }
 ],
 "metadata": {
  "kernelspec": {
   "display_name": "Python 3",
   "language": "python",
   "name": "python3"
  },
  "language_info": {
   "codemirror_mode": {
    "name": "ipython",
    "version": 3
   },
   "file_extension": ".py",
   "mimetype": "text/x-python",
   "name": "python",
   "nbconvert_exporter": "python",
   "pygments_lexer": "ipython3",
   "version": "3.7.4"
  }
 },
 "nbformat": 4,
 "nbformat_minor": 2
}
