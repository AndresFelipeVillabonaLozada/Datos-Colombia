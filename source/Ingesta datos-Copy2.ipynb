{
 "cells": [
  {
   "cell_type": "markdown",
   "metadata": {},
   "source": [
    "# Código Inicial\n",
    "\n",
    "#### El propósito del código es abrir el archivo del cruce de los dos siguientes archivos:\n",
    "####  * anexos-proyecciones-poblacion-area-sexo-2018-2023 (1) -> Población por dpto, mpio (ciudad), sexo\n",
    "####  * anexos-proyecciones-pob-dptos-area-grupos-de-edad-2018-2023 -> Población por dpto, edad, sexo\n",
    "\n",
    "#### El archivo que contiene el cruce de esos dos archivos es el siguiente:\n",
    "####  * Inicial\n",
    "\n",
    "#### Dado que se debía hacer un ajuste adicional, para que los grupos de edad no estuvieran como columnas, se utilizó Power Bi para ese procedimiento.\n",
    "\n",
    "#### El output de la transformación de datos de Power Bi es el siguiente:\n",
    "####  * Inicial_agregado"
   ]
  },
  {
   "cell_type": "markdown",
   "metadata": {},
   "source": [
    "Cargo librerias necesarias para hacer transformaciones"
   ]
  },
  {
   "cell_type": "code",
   "execution_count": 1,
   "metadata": {},
   "outputs": [],
   "source": [
    "import pandas as pd\n",
    "import time\n",
    "import numpy as np\n",
    "import dask.dataframe as dd"
   ]
  },
  {
   "cell_type": "markdown",
   "metadata": {},
   "source": [
    "## 1. Procedimiento con el archivo Inicial_agregado"
   ]
  },
  {
   "cell_type": "markdown",
   "metadata": {},
   "source": [
    "Leo archivo Inicial_agregado"
   ]
  },
  {
   "cell_type": "code",
   "execution_count": null,
   "metadata": {},
   "outputs": [],
   "source": [
    "dane = pd.read_excel(r\"C:\\Users\\NicolasBernal\\Documents\\GitHub\\Datos-Colombia\\input\\Inicial_agregado.xlsx\")"
   ]
  },
  {
   "cell_type": "markdown",
   "metadata": {},
   "source": [
    "# Código correcto"
   ]
  },
  {
   "cell_type": "markdown",
   "metadata": {},
   "source": [
    "Genero una lista con el número total de población por Departamento, Municipio (Ciudad), Sexo y Grupo de Edad"
   ]
  },
  {
   "cell_type": "code",
   "execution_count": null,
   "metadata": {
    "scrolled": true
   },
   "outputs": [],
   "source": [
    "reps = dane.iloc[:,5].tolist()\n",
    "#reps"
   ]
  },
  {
   "cell_type": "code",
   "execution_count": null,
   "metadata": {},
   "outputs": [],
   "source": [
    "newdane = dane"
   ]
  },
  {
   "cell_type": "markdown",
   "metadata": {},
   "source": [
    "Repito cada fila del DataFrame según la cantidad de repeticiones. Las repeticiones contiene la cantidad de personas para las diferentes conbinaciones de categorias"
   ]
  },
  {
   "cell_type": "code",
   "execution_count": null,
   "metadata": {},
   "outputs": [],
   "source": [
    "start_time = time.perf_counter()\n",
    "\n",
    "newdane = newdane.loc[np.repeat(newdane.index.values, reps)]\n",
    "\n",
    "print (time.perf_counter() - start_time, \"seconds\")"
   ]
  },
  {
   "cell_type": "code",
   "execution_count": null,
   "metadata": {
    "scrolled": true
   },
   "outputs": [],
   "source": [
    "#newdane"
   ]
  },
  {
   "cell_type": "markdown",
   "metadata": {},
   "source": [
    "Reseteo el índice del DataFrame"
   ]
  },
  {
   "cell_type": "code",
   "execution_count": null,
   "metadata": {},
   "outputs": [],
   "source": [
    "newdane = newdane.reset_index()"
   ]
  },
  {
   "cell_type": "code",
   "execution_count": null,
   "metadata": {
    "scrolled": true
   },
   "outputs": [],
   "source": [
    "#newdane"
   ]
  },
  {
   "cell_type": "markdown",
   "metadata": {},
   "source": [
    "Le asigno a la columna Personas el valor de 1. Dado que ahora cada fila es una persona"
   ]
  },
  {
   "cell_type": "code",
   "execution_count": null,
   "metadata": {},
   "outputs": [],
   "source": [
    "newdane[\"Personas\"] = 1"
   ]
  },
  {
   "cell_type": "code",
   "execution_count": null,
   "metadata": {
    "scrolled": true
   },
   "outputs": [],
   "source": [
    "newdane['index'] = newdane.index\n",
    "#newdane"
   ]
  },
  {
   "cell_type": "code",
   "execution_count": null,
   "metadata": {},
   "outputs": [],
   "source": [
    "#newdf.to_csv(r\"C:\\Users\\NicolasBernal\\Downloads\\Inicial_terminado.csv\", index = False)"
   ]
  },
  {
   "cell_type": "markdown",
   "metadata": {},
   "source": [
    "Se realiza algunas agrupaciones para ver si lo realizado fue correcto"
   ]
  },
  {
   "cell_type": "code",
   "execution_count": null,
   "metadata": {
    "scrolled": true
   },
   "outputs": [],
   "source": [
    "#print(newdane.groupby(['NOMBRE MPIO', 'SEXOS', 'Rango Edad']).count())"
   ]
  },
  {
   "cell_type": "markdown",
   "metadata": {},
   "source": [
    "Se deben realizar ajustes a la base de datos Dummie de población de Colombia, con el fin de cruzarla con el de contagiados nacionalmente.\n",
    "\n",
    "Primero se cambian los valores de SEXOS de la tabla de datos Dummie."
   ]
  },
  {
   "cell_type": "code",
   "execution_count": null,
   "metadata": {},
   "outputs": [],
   "source": [
    "newdane['SEXOS'].replace({'HOMBRES': 'M', 'MUJERES': 'F'}, inplace = True)"
   ]
  },
  {
   "cell_type": "code",
   "execution_count": null,
   "metadata": {
    "scrolled": false
   },
   "outputs": [],
   "source": [
    "#newdane"
   ]
  },
  {
   "cell_type": "markdown",
   "metadata": {},
   "source": [
    "Cambio el typo de variable de COD_MPIO"
   ]
  },
  {
   "cell_type": "code",
   "execution_count": null,
   "metadata": {},
   "outputs": [],
   "source": [
    "newdane['COD_MPIO'] = newdane['COD_MPIO'].apply(str)"
   ]
  },
  {
   "cell_type": "code",
   "execution_count": null,
   "metadata": {},
   "outputs": [],
   "source": [
    "#print(newdane.head(5))"
   ]
  },
  {
   "cell_type": "code",
   "execution_count": null,
   "metadata": {},
   "outputs": [],
   "source": [
    "#newdane.dtypes"
   ]
  },
  {
   "cell_type": "code",
   "execution_count": null,
   "metadata": {},
   "outputs": [],
   "source": [
    "newdane.rename(columns={'Rango Edad': \"Rango_Edad\"}, inplace = True)"
   ]
  },
  {
   "cell_type": "code",
   "execution_count": null,
   "metadata": {},
   "outputs": [],
   "source": [
    "#newdane.dtypes"
   ]
  },
  {
   "cell_type": "markdown",
   "metadata": {},
   "source": [
    "### Success!"
   ]
  },
  {
   "cell_type": "code",
   "execution_count": null,
   "metadata": {},
   "outputs": [],
   "source": [
    "df = np.array_split(newdane, 10)"
   ]
  },
  {
   "cell_type": "code",
   "execution_count": null,
   "metadata": {},
   "outputs": [],
   "source": [
    "df[0].to_csv(r\"C:\\Users\\NicolasBernal\\Documents\\GitHub\\Datos-Colombia\\input\\Inicial_0_terminado.csv\", index = False)\n",
    "df[1].to_csv(r\"C:\\Users\\NicolasBernal\\Documents\\GitHub\\Datos-Colombia\\input\\Inicial_1_terminado.csv\", index = False)\n",
    "df[2].to_csv(r\"C:\\Users\\NicolasBernal\\Documents\\GitHub\\Datos-Colombia\\input\\Inicial_2_terminado.csv\", index = False)\n",
    "df[3].to_csv(r\"C:\\Users\\NicolasBernal\\Documents\\GitHub\\Datos-Colombia\\input\\Inicial_3_terminado.csv\", index = False)\n",
    "df[4].to_csv(r\"C:\\Users\\NicolasBernal\\Documents\\GitHub\\Datos-Colombia\\input\\Inicial_4_terminado.csv\", index = False)\n",
    "df[5].to_csv(r\"C:\\Users\\NicolasBernal\\Documents\\GitHub\\Datos-Colombia\\input\\Inicial_5_terminado.csv\", index = False)\n",
    "df[6].to_csv(r\"C:\\Users\\NicolasBernal\\Documents\\GitHub\\Datos-Colombia\\input\\Inicial_6_terminado.csv\", index = False)\n",
    "df[7].to_csv(r\"C:\\Users\\NicolasBernal\\Documents\\GitHub\\Datos-Colombia\\input\\Inicial_7_terminado.csv\", index = False)\n",
    "df[8].to_csv(r\"C:\\Users\\NicolasBernal\\Documents\\GitHub\\Datos-Colombia\\input\\Inicial_8_terminado.csv\", index = False)\n",
    "df[9].to_csv(r\"C:\\Users\\NicolasBernal\\Documents\\GitHub\\Datos-Colombia\\input\\Inicial_9_terminado.csv\", index = False)"
   ]
  },
  {
   "cell_type": "markdown",
   "metadata": {},
   "source": [
    "## 2. Procedimiento con el archivo oficial de contagiados"
   ]
  },
  {
   "cell_type": "markdown",
   "metadata": {},
   "source": [
    "Leo el archivo oficial de contagiados con COVID-19"
   ]
  },
  {
   "cell_type": "code",
   "execution_count": null,
   "metadata": {},
   "outputs": [],
   "source": [
    "oficial = pd.read_csv(r\"C:\\Users\\NicolasBernal\\Documents\\GitHub\\Datos-Colombia\\input\\Casos_positivos_de_COVID-19_en_Colombia.csv\",\n",
    "                     sep = \";\")"
   ]
  },
  {
   "cell_type": "code",
   "execution_count": null,
   "metadata": {
    "scrolled": true
   },
   "outputs": [],
   "source": [
    "#oficial"
   ]
  },
  {
   "cell_type": "code",
   "execution_count": null,
   "metadata": {},
   "outputs": [],
   "source": [
    "oficial['Edad_2'] = oficial['Edad']\n",
    "#oficial"
   ]
  },
  {
   "cell_type": "markdown",
   "metadata": {},
   "source": [
    "Cambio la edad por los rangos de edad del DANE"
   ]
  },
  {
   "cell_type": "code",
   "execution_count": null,
   "metadata": {},
   "outputs": [],
   "source": [
    "oficial['Edad'] = np.where(oficial['Edad_2'] <= 4, '00-04', oficial['Edad'])\n",
    "oficial['Edad'] = np.where((oficial['Edad_2'] > 4) & (oficial['Edad_2'] <= 9), '05-09', oficial['Edad'])\n",
    "oficial['Edad'] = np.where((oficial['Edad_2'] > 9) & (oficial['Edad_2'] <= 14), '10-14', oficial['Edad'])\n",
    "oficial['Edad'] = np.where((oficial['Edad_2'] > 14) & (oficial['Edad_2'] <= 19), '15-19', oficial['Edad'])\n",
    "oficial['Edad'] = np.where((oficial['Edad_2'] > 19) & (oficial['Edad_2'] <= 24), '20-24', oficial['Edad'])\n",
    "oficial['Edad'] = np.where((oficial['Edad_2'] > 24) & (oficial['Edad_2'] <= 29), '25-29', oficial['Edad'])\n",
    "oficial['Edad'] = np.where((oficial['Edad_2'] > 29) & (oficial['Edad_2'] <= 34), '30-34', oficial['Edad'])\n",
    "oficial['Edad'] = np.where((oficial['Edad_2'] > 34) & (oficial['Edad_2'] <= 39), '35-39', oficial['Edad'])\n",
    "oficial['Edad'] = np.where((oficial['Edad_2'] > 39) & (oficial['Edad_2'] <= 44), '40-44', oficial['Edad'])\n",
    "oficial['Edad'] = np.where((oficial['Edad_2'] > 44) & (oficial['Edad_2'] <= 49), '45-49', oficial['Edad'])\n",
    "oficial['Edad'] = np.where((oficial['Edad_2'] > 49) & (oficial['Edad_2'] <= 54), '50-54', oficial['Edad'])\n",
    "oficial['Edad'] = np.where((oficial['Edad_2'] > 54) & (oficial['Edad_2'] <= 59), '55-59', oficial['Edad'])\n",
    "oficial['Edad'] = np.where((oficial['Edad_2'] > 59) & (oficial['Edad_2'] <= 64), '60-64', oficial['Edad'])\n",
    "oficial['Edad'] = np.where((oficial['Edad_2'] > 64) & (oficial['Edad_2'] <= 69), '65-69', oficial['Edad'])\n",
    "oficial['Edad'] = np.where((oficial['Edad_2'] > 69) & (oficial['Edad_2'] <= 74), '70-74', oficial['Edad'])\n",
    "oficial['Edad'] = np.where((oficial['Edad_2'] > 74) & (oficial['Edad_2'] <= 79), '75-79', oficial['Edad'])\n",
    "oficial['Edad'] = np.where((oficial['Edad_2'] > 79) & (oficial['Edad_2'] <= 84), '80-84', oficial['Edad'])\n",
    "oficial['Edad'] = np.where((oficial['Edad_2'] > 84) & (oficial['Edad_2'] <= 89), '85-89', oficial['Edad'])\n",
    "oficial['Edad'] = np.where((oficial['Edad_2'] > 89) & (oficial['Edad_2'] <= 94), '90-94', oficial['Edad'])\n",
    "oficial['Edad'] = np.where((oficial['Edad_2'] > 94) & (oficial['Edad_2'] <= 99), '95-99', oficial['Edad'])\n",
    "oficial['Edad'] = np.where((oficial['Edad_2'] > 99), '100 AÑOS Y MÁS', oficial['Edad'])"
   ]
  },
  {
   "cell_type": "markdown",
   "metadata": {},
   "source": [
    "Se cambia el tipo de la variable Codigo DIVIPOLA por string para hacer llaves y cruce."
   ]
  },
  {
   "cell_type": "code",
   "execution_count": null,
   "metadata": {},
   "outputs": [],
   "source": [
    "oficial['Codigo DIVIPOLA'] = oficial['Codigo DIVIPOLA'].apply(str)"
   ]
  },
  {
   "cell_type": "code",
   "execution_count": null,
   "metadata": {
    "scrolled": true
   },
   "outputs": [],
   "source": [
    "#oficial"
   ]
  },
  {
   "cell_type": "code",
   "execution_count": null,
   "metadata": {},
   "outputs": [],
   "source": [
    "#print(oficial.head(5))"
   ]
  },
  {
   "cell_type": "code",
   "execution_count": null,
   "metadata": {
    "scrolled": true
   },
   "outputs": [],
   "source": [
    "#oficial.dtypes"
   ]
  },
  {
   "cell_type": "code",
   "execution_count": null,
   "metadata": {},
   "outputs": [],
   "source": [
    "oficial.to_csv(r\"C:\\Users\\NicolasBernal\\Documents\\GitHub\\Datos-Colombia\\input\\Oficial_terminado.csv\", index = False)"
   ]
  },
  {
   "cell_type": "code",
   "execution_count": null,
   "metadata": {},
   "outputs": [],
   "source": [
    "del dane\n",
    "del reps"
   ]
  },
  {
   "cell_type": "markdown",
   "metadata": {},
   "source": [
    "## 3. Uno la tabla de Dummies Colombia y la tabla de infectados Oficial Colombia"
   ]
  },
  {
   "cell_type": "markdown",
   "metadata": {},
   "source": [
    "Se crea la llave para unir las tablas"
   ]
  },
  {
   "cell_type": "code",
   "execution_count": 42,
   "metadata": {},
   "outputs": [],
   "source": [
    "newdane = pd.read_csv(r\"C:\\Users\\NicolasBernal\\Documents\\GitHub\\Datos-Colombia\\input\\Inicial_0_terminado.csv\")"
   ]
  },
  {
   "cell_type": "code",
   "execution_count": 43,
   "metadata": {},
   "outputs": [],
   "source": [
    "oficial = pd.read_csv(r\"C:\\Users\\NicolasBernal\\Documents\\GitHub\\Datos-Colombia\\input\\Oficial_terminado.csv\")"
   ]
  },
  {
   "cell_type": "code",
   "execution_count": 44,
   "metadata": {},
   "outputs": [],
   "source": [
    "newdane['COD_MPIO'] = newdane['COD_MPIO'].apply(str)\n",
    "oficial['Codigo DIVIPOLA'] = oficial['Codigo DIVIPOLA'].apply(str)"
   ]
  },
  {
   "cell_type": "code",
   "execution_count": 45,
   "metadata": {},
   "outputs": [],
   "source": [
    "#oficial"
   ]
  },
  {
   "cell_type": "code",
   "execution_count": 46,
   "metadata": {},
   "outputs": [],
   "source": [
    "newdane['Key'] = newdane['Rango_Edad'] + newdane['SEXOS'] + newdane['COD_MPIO']\n",
    "oficial['Key'] = oficial['Edad'] + oficial['Sexo'] + oficial['Codigo DIVIPOLA']"
   ]
  },
  {
   "cell_type": "code",
   "execution_count": 47,
   "metadata": {},
   "outputs": [],
   "source": [
    "#newdane"
   ]
  },
  {
   "cell_type": "code",
   "execution_count": 48,
   "metadata": {
    "scrolled": false
   },
   "outputs": [],
   "source": [
    "#oficial"
   ]
  },
  {
   "cell_type": "code",
   "execution_count": 49,
   "metadata": {},
   "outputs": [],
   "source": [
    "#consolidado = pd.merge(newdane, oficial, on='Key', how='left')\n",
    "consolidado = pd.merge(newdane, oficial, on='Key', how='inner')\n",
    "#consolidado"
   ]
  },
  {
   "cell_type": "code",
   "execution_count": 50,
   "metadata": {},
   "outputs": [],
   "source": [
    "del newdane\n",
    "del oficial"
   ]
  },
  {
   "cell_type": "code",
   "execution_count": 51,
   "metadata": {},
   "outputs": [],
   "source": [
    "consolidado = consolidado.sort_values(by = ['ID de caso'], ascending=True)\n",
    "#consolidado"
   ]
  },
  {
   "cell_type": "code",
   "execution_count": null,
   "metadata": {},
   "outputs": [],
   "source": [
    "consolidado.loc[(consolidado['ID de caso'] == 22981)].to_csv(r\"C:\\Users\\NicolasBernal\\Documents\\GitHub\\Datos-Colombia\\input\\prueba1.csv\", index = False)"
   ]
  },
  {
   "cell_type": "code",
   "execution_count": null,
   "metadata": {},
   "outputs": [],
   "source": [
    "#consolidado.loc[(consolidado['Rango_Edad'] == '25-29') & (consolidado['COD_MPIO'] == '5361')]\n",
    "#consolidado.loc[consolidado['ID de caso'].isin([22981, 21792])]\n",
    "\n",
    "consolidado.loc[(consolidado['ID de caso'] == 4)]"
   ]
  },
  {
   "cell_type": "code",
   "execution_count": 52,
   "metadata": {},
   "outputs": [],
   "source": [
    "#Debería primero eliminar duplicados de index y después de si de ID de caso\n",
    "#consolidado = consolidado.drop_duplicates(subset=['index'], keep='first')\n",
    "consolidado1 = consolidado.drop_duplicates(subset=['index' and 'ID de caso'], keep = 'first', inplace=False, ) #buen codigo\n",
    "consolidado2 = consolidado.drop_duplicates(subset=['index' and 'ID de caso'], keep = 'last', inplace=False, ) #buen codigo\n",
    "\n",
    "#consolidado = consolidado.drop_duplicates(subset=['ID de caso' and 'index'], keep = 'first', inplace=False, )\n",
    "#idx = np.random.permutation(np.arange(len(consolidado)))\n",
    "#consolidado = consolidado.iloc[idx].drop_duplicates(subset=['ID de caso'])"
   ]
  },
  {
   "cell_type": "code",
   "execution_count": 13,
   "metadata": {
    "scrolled": true
   },
   "outputs": [
    {
     "data": {
      "text/html": [
       "<div>\n",
       "<style scoped>\n",
       "    .dataframe tbody tr th:only-of-type {\n",
       "        vertical-align: middle;\n",
       "    }\n",
       "\n",
       "    .dataframe tbody tr th {\n",
       "        vertical-align: top;\n",
       "    }\n",
       "\n",
       "    .dataframe thead th {\n",
       "        text-align: right;\n",
       "    }\n",
       "</style>\n",
       "<table border=\"1\" class=\"dataframe\">\n",
       "  <thead>\n",
       "    <tr style=\"text-align: right;\">\n",
       "      <th></th>\n",
       "      <th>index</th>\n",
       "      <th>NOMBRE DPTO</th>\n",
       "      <th>COD_MPIO</th>\n",
       "      <th>NOMBRE MPIO</th>\n",
       "      <th>SEXOS</th>\n",
       "      <th>Rango_Edad</th>\n",
       "      <th>Personas</th>\n",
       "      <th>Key</th>\n",
       "      <th>ID de caso</th>\n",
       "      <th>Fecha de notificación</th>\n",
       "      <th>...</th>\n",
       "      <th>Sexo</th>\n",
       "      <th>Tipo</th>\n",
       "      <th>Estado</th>\n",
       "      <th>País de procedencia</th>\n",
       "      <th>FIS</th>\n",
       "      <th>Fecha de muerte</th>\n",
       "      <th>Fecha diagnostico</th>\n",
       "      <th>Fecha recuperado</th>\n",
       "      <th>fecha reporte web</th>\n",
       "      <th>Edad_2</th>\n",
       "    </tr>\n",
       "  </thead>\n",
       "  <tbody>\n",
       "    <tr>\n",
       "      <td>24871891</td>\n",
       "      <td>4014233</td>\n",
       "      <td>Antioquia</td>\n",
       "      <td>5001</td>\n",
       "      <td>Medellín</td>\n",
       "      <td>F</td>\n",
       "      <td>50-54</td>\n",
       "      <td>1</td>\n",
       "      <td>50-54F5001</td>\n",
       "      <td>3</td>\n",
       "      <td>2020-03-07T00:00:00.000</td>\n",
       "      <td>...</td>\n",
       "      <td>F</td>\n",
       "      <td>Importado</td>\n",
       "      <td>Leve</td>\n",
       "      <td>España</td>\n",
       "      <td>2020-02-29T00:00:00.000</td>\n",
       "      <td>-   -</td>\n",
       "      <td>2020-03-09T00:00:00.000</td>\n",
       "      <td>2020-03-15T00:00:00.000</td>\n",
       "      <td>2020-03-09T00:00:00.000</td>\n",
       "      <td>50</td>\n",
       "    </tr>\n",
       "    <tr>\n",
       "      <td>24418951</td>\n",
       "      <td>3991586</td>\n",
       "      <td>Antioquia</td>\n",
       "      <td>5001</td>\n",
       "      <td>Medellín</td>\n",
       "      <td>F</td>\n",
       "      <td>50-54</td>\n",
       "      <td>1</td>\n",
       "      <td>50-54F5001</td>\n",
       "      <td>3</td>\n",
       "      <td>2020-03-07T00:00:00.000</td>\n",
       "      <td>...</td>\n",
       "      <td>F</td>\n",
       "      <td>Importado</td>\n",
       "      <td>Leve</td>\n",
       "      <td>España</td>\n",
       "      <td>2020-02-29T00:00:00.000</td>\n",
       "      <td>-   -</td>\n",
       "      <td>2020-03-09T00:00:00.000</td>\n",
       "      <td>2020-03-15T00:00:00.000</td>\n",
       "      <td>2020-03-09T00:00:00.000</td>\n",
       "      <td>50</td>\n",
       "    </tr>\n",
       "    <tr>\n",
       "      <td>25498511</td>\n",
       "      <td>4045564</td>\n",
       "      <td>Antioquia</td>\n",
       "      <td>5001</td>\n",
       "      <td>Medellín</td>\n",
       "      <td>F</td>\n",
       "      <td>50-54</td>\n",
       "      <td>1</td>\n",
       "      <td>50-54F5001</td>\n",
       "      <td>3</td>\n",
       "      <td>2020-03-07T00:00:00.000</td>\n",
       "      <td>...</td>\n",
       "      <td>F</td>\n",
       "      <td>Importado</td>\n",
       "      <td>Leve</td>\n",
       "      <td>España</td>\n",
       "      <td>2020-02-29T00:00:00.000</td>\n",
       "      <td>-   -</td>\n",
       "      <td>2020-03-09T00:00:00.000</td>\n",
       "      <td>2020-03-15T00:00:00.000</td>\n",
       "      <td>2020-03-09T00:00:00.000</td>\n",
       "      <td>50</td>\n",
       "    </tr>\n",
       "    <tr>\n",
       "      <td>25498491</td>\n",
       "      <td>4045563</td>\n",
       "      <td>Antioquia</td>\n",
       "      <td>5001</td>\n",
       "      <td>Medellín</td>\n",
       "      <td>F</td>\n",
       "      <td>50-54</td>\n",
       "      <td>1</td>\n",
       "      <td>50-54F5001</td>\n",
       "      <td>3</td>\n",
       "      <td>2020-03-07T00:00:00.000</td>\n",
       "      <td>...</td>\n",
       "      <td>F</td>\n",
       "      <td>Importado</td>\n",
       "      <td>Leve</td>\n",
       "      <td>España</td>\n",
       "      <td>2020-02-29T00:00:00.000</td>\n",
       "      <td>-   -</td>\n",
       "      <td>2020-03-09T00:00:00.000</td>\n",
       "      <td>2020-03-15T00:00:00.000</td>\n",
       "      <td>2020-03-09T00:00:00.000</td>\n",
       "      <td>50</td>\n",
       "    </tr>\n",
       "    <tr>\n",
       "      <td>24418971</td>\n",
       "      <td>3991587</td>\n",
       "      <td>Antioquia</td>\n",
       "      <td>5001</td>\n",
       "      <td>Medellín</td>\n",
       "      <td>F</td>\n",
       "      <td>50-54</td>\n",
       "      <td>1</td>\n",
       "      <td>50-54F5001</td>\n",
       "      <td>3</td>\n",
       "      <td>2020-03-07T00:00:00.000</td>\n",
       "      <td>...</td>\n",
       "      <td>F</td>\n",
       "      <td>Importado</td>\n",
       "      <td>Leve</td>\n",
       "      <td>España</td>\n",
       "      <td>2020-02-29T00:00:00.000</td>\n",
       "      <td>-   -</td>\n",
       "      <td>2020-03-09T00:00:00.000</td>\n",
       "      <td>2020-03-15T00:00:00.000</td>\n",
       "      <td>2020-03-09T00:00:00.000</td>\n",
       "      <td>50</td>\n",
       "    </tr>\n",
       "    <tr>\n",
       "      <td>...</td>\n",
       "      <td>...</td>\n",
       "      <td>...</td>\n",
       "      <td>...</td>\n",
       "      <td>...</td>\n",
       "      <td>...</td>\n",
       "      <td>...</td>\n",
       "      <td>...</td>\n",
       "      <td>...</td>\n",
       "      <td>...</td>\n",
       "      <td>...</td>\n",
       "      <td>...</td>\n",
       "      <td>...</td>\n",
       "      <td>...</td>\n",
       "      <td>...</td>\n",
       "      <td>...</td>\n",
       "      <td>...</td>\n",
       "      <td>...</td>\n",
       "      <td>...</td>\n",
       "      <td>...</td>\n",
       "      <td>...</td>\n",
       "      <td>...</td>\n",
       "    </tr>\n",
       "    <tr>\n",
       "      <td>20278873</td>\n",
       "      <td>1753000</td>\n",
       "      <td>Antioquia</td>\n",
       "      <td>5129</td>\n",
       "      <td>Caldas</td>\n",
       "      <td>M</td>\n",
       "      <td>30-34</td>\n",
       "      <td>1</td>\n",
       "      <td>30-34M5129</td>\n",
       "      <td>26053</td>\n",
       "      <td>2020-05-28T00:00:00.000</td>\n",
       "      <td>...</td>\n",
       "      <td>M</td>\n",
       "      <td>Relacionado</td>\n",
       "      <td>Leve</td>\n",
       "      <td>Colombia</td>\n",
       "      <td>2020-05-23T00:00:00.000</td>\n",
       "      <td>NaN</td>\n",
       "      <td>2020-05-29T00:00:00.000</td>\n",
       "      <td>NaN</td>\n",
       "      <td>2020-05-29T00:00:00.000</td>\n",
       "      <td>30</td>\n",
       "    </tr>\n",
       "    <tr>\n",
       "      <td>20278874</td>\n",
       "      <td>1753001</td>\n",
       "      <td>Antioquia</td>\n",
       "      <td>5129</td>\n",
       "      <td>Caldas</td>\n",
       "      <td>M</td>\n",
       "      <td>30-34</td>\n",
       "      <td>1</td>\n",
       "      <td>30-34M5129</td>\n",
       "      <td>26053</td>\n",
       "      <td>2020-05-28T00:00:00.000</td>\n",
       "      <td>...</td>\n",
       "      <td>M</td>\n",
       "      <td>Relacionado</td>\n",
       "      <td>Leve</td>\n",
       "      <td>Colombia</td>\n",
       "      <td>2020-05-23T00:00:00.000</td>\n",
       "      <td>NaN</td>\n",
       "      <td>2020-05-29T00:00:00.000</td>\n",
       "      <td>NaN</td>\n",
       "      <td>2020-05-29T00:00:00.000</td>\n",
       "      <td>30</td>\n",
       "    </tr>\n",
       "    <tr>\n",
       "      <td>20278875</td>\n",
       "      <td>1753002</td>\n",
       "      <td>Antioquia</td>\n",
       "      <td>5129</td>\n",
       "      <td>Caldas</td>\n",
       "      <td>M</td>\n",
       "      <td>30-34</td>\n",
       "      <td>1</td>\n",
       "      <td>30-34M5129</td>\n",
       "      <td>26053</td>\n",
       "      <td>2020-05-28T00:00:00.000</td>\n",
       "      <td>...</td>\n",
       "      <td>M</td>\n",
       "      <td>Relacionado</td>\n",
       "      <td>Leve</td>\n",
       "      <td>Colombia</td>\n",
       "      <td>2020-05-23T00:00:00.000</td>\n",
       "      <td>NaN</td>\n",
       "      <td>2020-05-29T00:00:00.000</td>\n",
       "      <td>NaN</td>\n",
       "      <td>2020-05-29T00:00:00.000</td>\n",
       "      <td>30</td>\n",
       "    </tr>\n",
       "    <tr>\n",
       "      <td>20279502</td>\n",
       "      <td>1753629</td>\n",
       "      <td>Antioquia</td>\n",
       "      <td>5129</td>\n",
       "      <td>Caldas</td>\n",
       "      <td>M</td>\n",
       "      <td>30-34</td>\n",
       "      <td>1</td>\n",
       "      <td>30-34M5129</td>\n",
       "      <td>26053</td>\n",
       "      <td>2020-05-28T00:00:00.000</td>\n",
       "      <td>...</td>\n",
       "      <td>M</td>\n",
       "      <td>Relacionado</td>\n",
       "      <td>Leve</td>\n",
       "      <td>Colombia</td>\n",
       "      <td>2020-05-23T00:00:00.000</td>\n",
       "      <td>NaN</td>\n",
       "      <td>2020-05-29T00:00:00.000</td>\n",
       "      <td>NaN</td>\n",
       "      <td>2020-05-29T00:00:00.000</td>\n",
       "      <td>30</td>\n",
       "    </tr>\n",
       "    <tr>\n",
       "      <td>20279332</td>\n",
       "      <td>1753459</td>\n",
       "      <td>Antioquia</td>\n",
       "      <td>5129</td>\n",
       "      <td>Caldas</td>\n",
       "      <td>M</td>\n",
       "      <td>30-34</td>\n",
       "      <td>1</td>\n",
       "      <td>30-34M5129</td>\n",
       "      <td>26053</td>\n",
       "      <td>2020-05-28T00:00:00.000</td>\n",
       "      <td>...</td>\n",
       "      <td>M</td>\n",
       "      <td>Relacionado</td>\n",
       "      <td>Leve</td>\n",
       "      <td>Colombia</td>\n",
       "      <td>2020-05-23T00:00:00.000</td>\n",
       "      <td>NaN</td>\n",
       "      <td>2020-05-29T00:00:00.000</td>\n",
       "      <td>NaN</td>\n",
       "      <td>2020-05-29T00:00:00.000</td>\n",
       "      <td>30</td>\n",
       "    </tr>\n",
       "  </tbody>\n",
       "</table>\n",
       "<p>2665379 rows × 25 columns</p>\n",
       "</div>"
      ],
      "text/plain": [
       "            index NOMBRE DPTO COD_MPIO NOMBRE MPIO SEXOS Rango_Edad  Personas  \\\n",
       "24871891  4014233   Antioquia     5001    Medellín     F      50-54         1   \n",
       "24418951  3991586   Antioquia     5001    Medellín     F      50-54         1   \n",
       "25498511  4045564   Antioquia     5001    Medellín     F      50-54         1   \n",
       "25498491  4045563   Antioquia     5001    Medellín     F      50-54         1   \n",
       "24418971  3991587   Antioquia     5001    Medellín     F      50-54         1   \n",
       "...           ...         ...      ...         ...   ...        ...       ...   \n",
       "20278873  1753000   Antioquia     5129      Caldas     M      30-34         1   \n",
       "20278874  1753001   Antioquia     5129      Caldas     M      30-34         1   \n",
       "20278875  1753002   Antioquia     5129      Caldas     M      30-34         1   \n",
       "20279502  1753629   Antioquia     5129      Caldas     M      30-34         1   \n",
       "20279332  1753459   Antioquia     5129      Caldas     M      30-34         1   \n",
       "\n",
       "                 Key  ID de caso    Fecha de notificación  ... Sexo  \\\n",
       "24871891  50-54F5001           3  2020-03-07T00:00:00.000  ...    F   \n",
       "24418951  50-54F5001           3  2020-03-07T00:00:00.000  ...    F   \n",
       "25498511  50-54F5001           3  2020-03-07T00:00:00.000  ...    F   \n",
       "25498491  50-54F5001           3  2020-03-07T00:00:00.000  ...    F   \n",
       "24418971  50-54F5001           3  2020-03-07T00:00:00.000  ...    F   \n",
       "...              ...         ...                      ...  ...  ...   \n",
       "20278873  30-34M5129       26053  2020-05-28T00:00:00.000  ...    M   \n",
       "20278874  30-34M5129       26053  2020-05-28T00:00:00.000  ...    M   \n",
       "20278875  30-34M5129       26053  2020-05-28T00:00:00.000  ...    M   \n",
       "20279502  30-34M5129       26053  2020-05-28T00:00:00.000  ...    M   \n",
       "20279332  30-34M5129       26053  2020-05-28T00:00:00.000  ...    M   \n",
       "\n",
       "                 Tipo Estado País de procedencia                      FIS  \\\n",
       "24871891    Importado   Leve              España  2020-02-29T00:00:00.000   \n",
       "24418951    Importado   Leve              España  2020-02-29T00:00:00.000   \n",
       "25498511    Importado   Leve              España  2020-02-29T00:00:00.000   \n",
       "25498491    Importado   Leve              España  2020-02-29T00:00:00.000   \n",
       "24418971    Importado   Leve              España  2020-02-29T00:00:00.000   \n",
       "...               ...    ...                 ...                      ...   \n",
       "20278873  Relacionado   Leve            Colombia  2020-05-23T00:00:00.000   \n",
       "20278874  Relacionado   Leve            Colombia  2020-05-23T00:00:00.000   \n",
       "20278875  Relacionado   Leve            Colombia  2020-05-23T00:00:00.000   \n",
       "20279502  Relacionado   Leve            Colombia  2020-05-23T00:00:00.000   \n",
       "20279332  Relacionado   Leve            Colombia  2020-05-23T00:00:00.000   \n",
       "\n",
       "         Fecha de muerte        Fecha diagnostico         Fecha recuperado  \\\n",
       "24871891           -   -  2020-03-09T00:00:00.000  2020-03-15T00:00:00.000   \n",
       "24418951           -   -  2020-03-09T00:00:00.000  2020-03-15T00:00:00.000   \n",
       "25498511           -   -  2020-03-09T00:00:00.000  2020-03-15T00:00:00.000   \n",
       "25498491           -   -  2020-03-09T00:00:00.000  2020-03-15T00:00:00.000   \n",
       "24418971           -   -  2020-03-09T00:00:00.000  2020-03-15T00:00:00.000   \n",
       "...                  ...                      ...                      ...   \n",
       "20278873             NaN  2020-05-29T00:00:00.000                      NaN   \n",
       "20278874             NaN  2020-05-29T00:00:00.000                      NaN   \n",
       "20278875             NaN  2020-05-29T00:00:00.000                      NaN   \n",
       "20279502             NaN  2020-05-29T00:00:00.000                      NaN   \n",
       "20279332             NaN  2020-05-29T00:00:00.000                      NaN   \n",
       "\n",
       "                fecha reporte web Edad_2  \n",
       "24871891  2020-03-09T00:00:00.000     50  \n",
       "24418951  2020-03-09T00:00:00.000     50  \n",
       "25498511  2020-03-09T00:00:00.000     50  \n",
       "25498491  2020-03-09T00:00:00.000     50  \n",
       "24418971  2020-03-09T00:00:00.000     50  \n",
       "...                           ...    ...  \n",
       "20278873  2020-05-29T00:00:00.000     30  \n",
       "20278874  2020-05-29T00:00:00.000     30  \n",
       "20278875  2020-05-29T00:00:00.000     30  \n",
       "20279502  2020-05-29T00:00:00.000     30  \n",
       "20279332  2020-05-29T00:00:00.000     30  \n",
       "\n",
       "[2665379 rows x 25 columns]"
      ]
     },
     "execution_count": 13,
     "metadata": {},
     "output_type": "execute_result"
    }
   ],
   "source": [
    "consolidado"
   ]
  },
  {
   "cell_type": "code",
   "execution_count": null,
   "metadata": {},
   "outputs": [],
   "source": [
    "consolidado.to_csv(r\"C:\\Users\\NicolasBernal\\Documents\\GitHub\\Datos-Colombia\\input\\prueba2.csv\", index = False)"
   ]
  },
  {
   "cell_type": "code",
   "execution_count": null,
   "metadata": {},
   "outputs": [],
   "source": [
    "consolidado = consolidado.drop_duplicates(subset=['ID de caso'], keep = 'first', inplace=False, )\n",
    "consolidado"
   ]
  },
  {
   "cell_type": "code",
   "execution_count": 53,
   "metadata": {},
   "outputs": [],
   "source": [
    "consolidado1 = consolidado1.sort_values('index',ascending=True)\n",
    "consolidado2 = consolidado2.sort_values('index',ascending=True)"
   ]
  },
  {
   "cell_type": "code",
   "execution_count": 39,
   "metadata": {
    "scrolled": true
   },
   "outputs": [
    {
     "data": {
      "text/html": [
       "<div>\n",
       "<style scoped>\n",
       "    .dataframe tbody tr th:only-of-type {\n",
       "        vertical-align: middle;\n",
       "    }\n",
       "\n",
       "    .dataframe tbody tr th {\n",
       "        vertical-align: top;\n",
       "    }\n",
       "\n",
       "    .dataframe thead th {\n",
       "        text-align: right;\n",
       "    }\n",
       "</style>\n",
       "<table border=\"1\" class=\"dataframe\">\n",
       "  <thead>\n",
       "    <tr style=\"text-align: right;\">\n",
       "      <th></th>\n",
       "      <th>index</th>\n",
       "      <th>NOMBRE DPTO</th>\n",
       "      <th>COD_MPIO</th>\n",
       "      <th>NOMBRE MPIO</th>\n",
       "      <th>SEXOS</th>\n",
       "      <th>Rango_Edad</th>\n",
       "      <th>Personas</th>\n",
       "      <th>Key</th>\n",
       "      <th>ID de caso</th>\n",
       "      <th>Fecha de notificación</th>\n",
       "      <th>...</th>\n",
       "      <th>Sexo</th>\n",
       "      <th>Tipo</th>\n",
       "      <th>Estado</th>\n",
       "      <th>País de procedencia</th>\n",
       "      <th>FIS</th>\n",
       "      <th>Fecha de muerte</th>\n",
       "      <th>Fecha diagnostico</th>\n",
       "      <th>Fecha recuperado</th>\n",
       "      <th>fecha reporte web</th>\n",
       "      <th>Edad_2</th>\n",
       "    </tr>\n",
       "  </thead>\n",
       "  <tbody>\n",
       "    <tr>\n",
       "      <td>0</td>\n",
       "      <td>0</td>\n",
       "      <td>Antioquia</td>\n",
       "      <td>5001</td>\n",
       "      <td>Medellín</td>\n",
       "      <td>M</td>\n",
       "      <td>00-04</td>\n",
       "      <td>1</td>\n",
       "      <td>00-04M5001</td>\n",
       "      <td>3892</td>\n",
       "      <td>2020-04-15T00:00:00.000</td>\n",
       "      <td>...</td>\n",
       "      <td>M</td>\n",
       "      <td>Relacionado</td>\n",
       "      <td>Leve</td>\n",
       "      <td>Colombia</td>\n",
       "      <td>2020-04-15T00:00:00.000</td>\n",
       "      <td>-   -</td>\n",
       "      <td>2020-04-20T00:00:00.000</td>\n",
       "      <td>2020-04-29T00:00:00.000</td>\n",
       "      <td>2020-04-20T00:00:00.000</td>\n",
       "      <td>1</td>\n",
       "    </tr>\n",
       "    <tr>\n",
       "      <td>44327</td>\n",
       "      <td>14775</td>\n",
       "      <td>Antioquia</td>\n",
       "      <td>5001</td>\n",
       "      <td>Medellín</td>\n",
       "      <td>M</td>\n",
       "      <td>00-04</td>\n",
       "      <td>1</td>\n",
       "      <td>00-04M5001</td>\n",
       "      <td>26048</td>\n",
       "      <td>2020-05-25T00:00:00.000</td>\n",
       "      <td>...</td>\n",
       "      <td>M</td>\n",
       "      <td>Relacionado</td>\n",
       "      <td>Leve</td>\n",
       "      <td>Colombia</td>\n",
       "      <td>2020-05-20T00:00:00.000</td>\n",
       "      <td>NaN</td>\n",
       "      <td>2020-05-29T00:00:00.000</td>\n",
       "      <td>NaN</td>\n",
       "      <td>2020-05-29T00:00:00.000</td>\n",
       "      <td>1</td>\n",
       "    </tr>\n",
       "    <tr>\n",
       "      <td>130741</td>\n",
       "      <td>43580</td>\n",
       "      <td>Antioquia</td>\n",
       "      <td>5001</td>\n",
       "      <td>Medellín</td>\n",
       "      <td>M</td>\n",
       "      <td>00-04</td>\n",
       "      <td>1</td>\n",
       "      <td>00-04M5001</td>\n",
       "      <td>23006</td>\n",
       "      <td>2020-05-26T00:00:00.000</td>\n",
       "      <td>...</td>\n",
       "      <td>M</td>\n",
       "      <td>Relacionado</td>\n",
       "      <td>Asintomático</td>\n",
       "      <td>Colombia</td>\n",
       "      <td>Asintomático</td>\n",
       "      <td>NaN</td>\n",
       "      <td>2020-05-26T00:00:00.000</td>\n",
       "      <td>NaN</td>\n",
       "      <td>2020-05-26T00:00:00.000</td>\n",
       "      <td>1</td>\n",
       "    </tr>\n",
       "    <tr>\n",
       "      <td>373684</td>\n",
       "      <td>109729</td>\n",
       "      <td>Antioquia</td>\n",
       "      <td>5001</td>\n",
       "      <td>Medellín</td>\n",
       "      <td>M</td>\n",
       "      <td>05-09</td>\n",
       "      <td>1</td>\n",
       "      <td>05-09M5001</td>\n",
       "      <td>23011</td>\n",
       "      <td>2020-05-23T00:00:00.000</td>\n",
       "      <td>...</td>\n",
       "      <td>M</td>\n",
       "      <td>Relacionado</td>\n",
       "      <td>Asintomático</td>\n",
       "      <td>Colombia</td>\n",
       "      <td>Asintomático</td>\n",
       "      <td>NaN</td>\n",
       "      <td>2020-05-26T00:00:00.000</td>\n",
       "      <td>NaN</td>\n",
       "      <td>2020-05-26T00:00:00.000</td>\n",
       "      <td>6</td>\n",
       "    </tr>\n",
       "    <tr>\n",
       "      <td>407456</td>\n",
       "      <td>116484</td>\n",
       "      <td>Antioquia</td>\n",
       "      <td>5001</td>\n",
       "      <td>Medellín</td>\n",
       "      <td>M</td>\n",
       "      <td>05-09</td>\n",
       "      <td>1</td>\n",
       "      <td>05-09M5001</td>\n",
       "      <td>2981</td>\n",
       "      <td>2020-04-10T00:00:00.000</td>\n",
       "      <td>...</td>\n",
       "      <td>M</td>\n",
       "      <td>Relacionado</td>\n",
       "      <td>Asintomático</td>\n",
       "      <td>Colombia</td>\n",
       "      <td>Asintomático</td>\n",
       "      <td>-   -</td>\n",
       "      <td>2020-04-15T00:00:00.000</td>\n",
       "      <td>2020-04-23T00:00:00.000</td>\n",
       "      <td>2020-04-15T00:00:00.000</td>\n",
       "      <td>5</td>\n",
       "    </tr>\n",
       "    <tr>\n",
       "      <td>...</td>\n",
       "      <td>...</td>\n",
       "      <td>...</td>\n",
       "      <td>...</td>\n",
       "      <td>...</td>\n",
       "      <td>...</td>\n",
       "      <td>...</td>\n",
       "      <td>...</td>\n",
       "      <td>...</td>\n",
       "      <td>...</td>\n",
       "      <td>...</td>\n",
       "      <td>...</td>\n",
       "      <td>...</td>\n",
       "      <td>...</td>\n",
       "      <td>...</td>\n",
       "      <td>...</td>\n",
       "      <td>...</td>\n",
       "      <td>...</td>\n",
       "      <td>...</td>\n",
       "      <td>...</td>\n",
       "      <td>...</td>\n",
       "      <td>...</td>\n",
       "    </tr>\n",
       "    <tr>\n",
       "      <td>35283722</td>\n",
       "      <td>5013954</td>\n",
       "      <td>Antioquia</td>\n",
       "      <td>5088</td>\n",
       "      <td>Bello</td>\n",
       "      <td>F</td>\n",
       "      <td>30-34</td>\n",
       "      <td>1</td>\n",
       "      <td>30-34F5088</td>\n",
       "      <td>452</td>\n",
       "      <td>2020-03-25T00:00:00.000</td>\n",
       "      <td>...</td>\n",
       "      <td>F</td>\n",
       "      <td>Importado</td>\n",
       "      <td>Leve</td>\n",
       "      <td>España</td>\n",
       "      <td>2020-03-19T00:00:00.000</td>\n",
       "      <td>-   -</td>\n",
       "      <td>2020-03-25T00:00:00.000</td>\n",
       "      <td>2020-05-05T00:00:00.000</td>\n",
       "      <td>2020-03-25T00:00:00.000</td>\n",
       "      <td>32</td>\n",
       "    </tr>\n",
       "    <tr>\n",
       "      <td>35292072</td>\n",
       "      <td>5016041</td>\n",
       "      <td>Antioquia</td>\n",
       "      <td>5088</td>\n",
       "      <td>Bello</td>\n",
       "      <td>F</td>\n",
       "      <td>30-34</td>\n",
       "      <td>1</td>\n",
       "      <td>30-34F5088</td>\n",
       "      <td>1088</td>\n",
       "      <td>2020-03-31T00:00:00.000</td>\n",
       "      <td>...</td>\n",
       "      <td>F</td>\n",
       "      <td>Relacionado</td>\n",
       "      <td>Leve</td>\n",
       "      <td>Colombia</td>\n",
       "      <td>2020-03-13T00:00:00.000</td>\n",
       "      <td>-   -</td>\n",
       "      <td>2020-04-02T00:00:00.000</td>\n",
       "      <td>2020-04-13T00:00:00.000</td>\n",
       "      <td>2020-04-02T00:00:00.000</td>\n",
       "      <td>30</td>\n",
       "    </tr>\n",
       "    <tr>\n",
       "      <td>35330277</td>\n",
       "      <td>5025592</td>\n",
       "      <td>Antioquia</td>\n",
       "      <td>5088</td>\n",
       "      <td>Bello</td>\n",
       "      <td>F</td>\n",
       "      <td>30-34</td>\n",
       "      <td>1</td>\n",
       "      <td>30-34F5088</td>\n",
       "      <td>1429</td>\n",
       "      <td>2020-04-04T00:00:00.000</td>\n",
       "      <td>...</td>\n",
       "      <td>F</td>\n",
       "      <td>Relacionado</td>\n",
       "      <td>Leve</td>\n",
       "      <td>Colombia</td>\n",
       "      <td>2020-03-26T00:00:00.000</td>\n",
       "      <td>-   -</td>\n",
       "      <td>2020-04-05T00:00:00.000</td>\n",
       "      <td>2020-05-08T00:00:00.000</td>\n",
       "      <td>2020-04-05T00:00:00.000</td>\n",
       "      <td>32</td>\n",
       "    </tr>\n",
       "    <tr>\n",
       "      <td>35334007</td>\n",
       "      <td>5026525</td>\n",
       "      <td>Antioquia</td>\n",
       "      <td>5088</td>\n",
       "      <td>Bello</td>\n",
       "      <td>F</td>\n",
       "      <td>30-34</td>\n",
       "      <td>1</td>\n",
       "      <td>30-34F5088</td>\n",
       "      <td>654</td>\n",
       "      <td>2020-03-28T00:00:00.000</td>\n",
       "      <td>...</td>\n",
       "      <td>F</td>\n",
       "      <td>Importado</td>\n",
       "      <td>Leve</td>\n",
       "      <td>Jamaica</td>\n",
       "      <td>2020-03-16T00:00:00.000</td>\n",
       "      <td>-   -</td>\n",
       "      <td>2020-03-29T00:00:00.000</td>\n",
       "      <td>2020-03-31T00:00:00.000</td>\n",
       "      <td>2020-03-29T00:00:00.000</td>\n",
       "      <td>33</td>\n",
       "    </tr>\n",
       "    <tr>\n",
       "      <td>35355917</td>\n",
       "      <td>5037228</td>\n",
       "      <td>Antioquia</td>\n",
       "      <td>5129</td>\n",
       "      <td>Caldas</td>\n",
       "      <td>F</td>\n",
       "      <td>30-34</td>\n",
       "      <td>1</td>\n",
       "      <td>30-34F5129</td>\n",
       "      <td>1496</td>\n",
       "      <td>2020-04-03T00:00:00.000</td>\n",
       "      <td>...</td>\n",
       "      <td>F</td>\n",
       "      <td>Relacionado</td>\n",
       "      <td>Asintomático</td>\n",
       "      <td>Colombia</td>\n",
       "      <td>Asintomático</td>\n",
       "      <td>-   -</td>\n",
       "      <td>2020-04-06T00:00:00.000</td>\n",
       "      <td>2020-04-25T00:00:00.000</td>\n",
       "      <td>2020-04-06T00:00:00.000</td>\n",
       "      <td>33</td>\n",
       "    </tr>\n",
       "  </tbody>\n",
       "</table>\n",
       "<p>871 rows × 25 columns</p>\n",
       "</div>"
      ],
      "text/plain": [
       "            index NOMBRE DPTO COD_MPIO NOMBRE MPIO SEXOS Rango_Edad  Personas  \\\n",
       "0               0   Antioquia     5001    Medellín     M      00-04         1   \n",
       "44327       14775   Antioquia     5001    Medellín     M      00-04         1   \n",
       "130741      43580   Antioquia     5001    Medellín     M      00-04         1   \n",
       "373684     109729   Antioquia     5001    Medellín     M      05-09         1   \n",
       "407456     116484   Antioquia     5001    Medellín     M      05-09         1   \n",
       "...           ...         ...      ...         ...   ...        ...       ...   \n",
       "35283722  5013954   Antioquia     5088       Bello     F      30-34         1   \n",
       "35292072  5016041   Antioquia     5088       Bello     F      30-34         1   \n",
       "35330277  5025592   Antioquia     5088       Bello     F      30-34         1   \n",
       "35334007  5026525   Antioquia     5088       Bello     F      30-34         1   \n",
       "35355917  5037228   Antioquia     5129      Caldas     F      30-34         1   \n",
       "\n",
       "                 Key  ID de caso    Fecha de notificación  ... Sexo  \\\n",
       "0         00-04M5001        3892  2020-04-15T00:00:00.000  ...    M   \n",
       "44327     00-04M5001       26048  2020-05-25T00:00:00.000  ...    M   \n",
       "130741    00-04M5001       23006  2020-05-26T00:00:00.000  ...    M   \n",
       "373684    05-09M5001       23011  2020-05-23T00:00:00.000  ...    M   \n",
       "407456    05-09M5001        2981  2020-04-10T00:00:00.000  ...    M   \n",
       "...              ...         ...                      ...  ...  ...   \n",
       "35283722  30-34F5088         452  2020-03-25T00:00:00.000  ...    F   \n",
       "35292072  30-34F5088        1088  2020-03-31T00:00:00.000  ...    F   \n",
       "35330277  30-34F5088        1429  2020-04-04T00:00:00.000  ...    F   \n",
       "35334007  30-34F5088         654  2020-03-28T00:00:00.000  ...    F   \n",
       "35355917  30-34F5129        1496  2020-04-03T00:00:00.000  ...    F   \n",
       "\n",
       "                 Tipo        Estado País de procedencia  \\\n",
       "0         Relacionado          Leve            Colombia   \n",
       "44327     Relacionado          Leve            Colombia   \n",
       "130741    Relacionado  Asintomático            Colombia   \n",
       "373684    Relacionado  Asintomático            Colombia   \n",
       "407456    Relacionado  Asintomático            Colombia   \n",
       "...               ...           ...                 ...   \n",
       "35283722    Importado          Leve              España   \n",
       "35292072  Relacionado          Leve            Colombia   \n",
       "35330277  Relacionado          Leve            Colombia   \n",
       "35334007    Importado          Leve             Jamaica   \n",
       "35355917  Relacionado  Asintomático            Colombia   \n",
       "\n",
       "                              FIS Fecha de muerte        Fecha diagnostico  \\\n",
       "0         2020-04-15T00:00:00.000           -   -  2020-04-20T00:00:00.000   \n",
       "44327     2020-05-20T00:00:00.000             NaN  2020-05-29T00:00:00.000   \n",
       "130741               Asintomático             NaN  2020-05-26T00:00:00.000   \n",
       "373684               Asintomático             NaN  2020-05-26T00:00:00.000   \n",
       "407456               Asintomático           -   -  2020-04-15T00:00:00.000   \n",
       "...                           ...             ...                      ...   \n",
       "35283722  2020-03-19T00:00:00.000           -   -  2020-03-25T00:00:00.000   \n",
       "35292072  2020-03-13T00:00:00.000           -   -  2020-04-02T00:00:00.000   \n",
       "35330277  2020-03-26T00:00:00.000           -   -  2020-04-05T00:00:00.000   \n",
       "35334007  2020-03-16T00:00:00.000           -   -  2020-03-29T00:00:00.000   \n",
       "35355917             Asintomático           -   -  2020-04-06T00:00:00.000   \n",
       "\n",
       "                 Fecha recuperado        fecha reporte web Edad_2  \n",
       "0         2020-04-29T00:00:00.000  2020-04-20T00:00:00.000      1  \n",
       "44327                         NaN  2020-05-29T00:00:00.000      1  \n",
       "130741                        NaN  2020-05-26T00:00:00.000      1  \n",
       "373684                        NaN  2020-05-26T00:00:00.000      6  \n",
       "407456    2020-04-23T00:00:00.000  2020-04-15T00:00:00.000      5  \n",
       "...                           ...                      ...    ...  \n",
       "35283722  2020-05-05T00:00:00.000  2020-03-25T00:00:00.000     32  \n",
       "35292072  2020-04-13T00:00:00.000  2020-04-02T00:00:00.000     30  \n",
       "35330277  2020-05-08T00:00:00.000  2020-04-05T00:00:00.000     32  \n",
       "35334007  2020-03-31T00:00:00.000  2020-03-29T00:00:00.000     33  \n",
       "35355917  2020-04-25T00:00:00.000  2020-04-06T00:00:00.000     33  \n",
       "\n",
       "[871 rows x 25 columns]"
      ]
     },
     "execution_count": 39,
     "metadata": {},
     "output_type": "execute_result"
    }
   ],
   "source": [
    "consolidado = consolidado.sort_values('index',ascending=True)\n",
    "consolidado"
   ]
  },
  {
   "cell_type": "code",
   "execution_count": 40,
   "metadata": {},
   "outputs": [
    {
     "data": {
      "text/plain": [
       "True"
      ]
     },
     "execution_count": 40,
     "metadata": {},
     "output_type": "execute_result"
    }
   ],
   "source": [
    "boolean = consolidado['index'].duplicated().any()\n",
    "boolean"
   ]
  },
  {
   "cell_type": "code",
   "execution_count": 41,
   "metadata": {},
   "outputs": [
    {
     "data": {
      "text/html": [
       "<div>\n",
       "<style scoped>\n",
       "    .dataframe tbody tr th:only-of-type {\n",
       "        vertical-align: middle;\n",
       "    }\n",
       "\n",
       "    .dataframe tbody tr th {\n",
       "        vertical-align: top;\n",
       "    }\n",
       "\n",
       "    .dataframe thead th {\n",
       "        text-align: right;\n",
       "    }\n",
       "</style>\n",
       "<table border=\"1\" class=\"dataframe\">\n",
       "  <thead>\n",
       "    <tr style=\"text-align: right;\">\n",
       "      <th></th>\n",
       "      <th>index</th>\n",
       "      <th>NOMBRE DPTO</th>\n",
       "      <th>COD_MPIO</th>\n",
       "      <th>NOMBRE MPIO</th>\n",
       "      <th>SEXOS</th>\n",
       "      <th>Rango_Edad</th>\n",
       "      <th>Personas</th>\n",
       "      <th>Key</th>\n",
       "      <th>ID de caso</th>\n",
       "      <th>Fecha de notificación</th>\n",
       "      <th>...</th>\n",
       "      <th>Sexo</th>\n",
       "      <th>Tipo</th>\n",
       "      <th>Estado</th>\n",
       "      <th>País de procedencia</th>\n",
       "      <th>FIS</th>\n",
       "      <th>Fecha de muerte</th>\n",
       "      <th>Fecha diagnostico</th>\n",
       "      <th>Fecha recuperado</th>\n",
       "      <th>fecha reporte web</th>\n",
       "      <th>Edad_2</th>\n",
       "    </tr>\n",
       "  </thead>\n",
       "  <tbody>\n",
       "    <tr>\n",
       "      <td>20339564</td>\n",
       "      <td>1799781</td>\n",
       "      <td>Antioquia</td>\n",
       "      <td>5147</td>\n",
       "      <td>Carepa</td>\n",
       "      <td>M</td>\n",
       "      <td>25-29</td>\n",
       "      <td>1</td>\n",
       "      <td>25-29M5147</td>\n",
       "      <td>21771</td>\n",
       "      <td>2020-05-23T00:00:00.000</td>\n",
       "      <td>...</td>\n",
       "      <td>M</td>\n",
       "      <td>Relacionado</td>\n",
       "      <td>Leve</td>\n",
       "      <td>Colombia</td>\n",
       "      <td>2020-05-22T00:00:00.000</td>\n",
       "      <td>NaN</td>\n",
       "      <td>2020-05-25T00:00:00.000</td>\n",
       "      <td>NaN</td>\n",
       "      <td>2020-05-25T00:00:00.000</td>\n",
       "      <td>25</td>\n",
       "    </tr>\n",
       "    <tr>\n",
       "      <td>20612733</td>\n",
       "      <td>2408261</td>\n",
       "      <td>Antioquia</td>\n",
       "      <td>5361</td>\n",
       "      <td>Ituango</td>\n",
       "      <td>M</td>\n",
       "      <td>20-24</td>\n",
       "      <td>1</td>\n",
       "      <td>20-24M5361</td>\n",
       "      <td>21774</td>\n",
       "      <td>2020-05-25T00:00:00.000</td>\n",
       "      <td>...</td>\n",
       "      <td>M</td>\n",
       "      <td>Relacionado</td>\n",
       "      <td>Asintomático</td>\n",
       "      <td>Colombia</td>\n",
       "      <td>Asintomático</td>\n",
       "      <td>NaN</td>\n",
       "      <td>2020-05-25T00:00:00.000</td>\n",
       "      <td>NaN</td>\n",
       "      <td>2020-05-25T00:00:00.000</td>\n",
       "      <td>22</td>\n",
       "    </tr>\n",
       "    <tr>\n",
       "      <td>20658295</td>\n",
       "      <td>2409924</td>\n",
       "      <td>Antioquia</td>\n",
       "      <td>5361</td>\n",
       "      <td>Ituango</td>\n",
       "      <td>M</td>\n",
       "      <td>25-29</td>\n",
       "      <td>1</td>\n",
       "      <td>25-29M5361</td>\n",
       "      <td>21830</td>\n",
       "      <td>2020-05-25T00:00:00.000</td>\n",
       "      <td>...</td>\n",
       "      <td>M</td>\n",
       "      <td>Relacionado</td>\n",
       "      <td>Asintomático</td>\n",
       "      <td>Colombia</td>\n",
       "      <td>Asintomático</td>\n",
       "      <td>NaN</td>\n",
       "      <td>2020-05-25T00:00:00.000</td>\n",
       "      <td>NaN</td>\n",
       "      <td>2020-05-25T00:00:00.000</td>\n",
       "      <td>28</td>\n",
       "    </tr>\n",
       "    <tr>\n",
       "      <td>20707044</td>\n",
       "      <td>2411297</td>\n",
       "      <td>Antioquia</td>\n",
       "      <td>5361</td>\n",
       "      <td>Ituango</td>\n",
       "      <td>M</td>\n",
       "      <td>30-34</td>\n",
       "      <td>1</td>\n",
       "      <td>30-34M5361</td>\n",
       "      <td>20209</td>\n",
       "      <td>2020-05-22T00:00:00.000</td>\n",
       "      <td>...</td>\n",
       "      <td>M</td>\n",
       "      <td>Relacionado</td>\n",
       "      <td>Asintomático</td>\n",
       "      <td>Colombia</td>\n",
       "      <td>Asintomático</td>\n",
       "      <td>-   -</td>\n",
       "      <td>2020-05-23T00:00:00.000</td>\n",
       "      <td>NaN</td>\n",
       "      <td>2020-05-23T00:00:00.000</td>\n",
       "      <td>30</td>\n",
       "    </tr>\n",
       "    <tr>\n",
       "      <td>31596607</td>\n",
       "      <td>4752356</td>\n",
       "      <td>Antioquia</td>\n",
       "      <td>5088</td>\n",
       "      <td>Bello</td>\n",
       "      <td>F</td>\n",
       "      <td>35-39</td>\n",
       "      <td>1</td>\n",
       "      <td>35-39F5088</td>\n",
       "      <td>26056</td>\n",
       "      <td>2020-05-23T00:00:00.000</td>\n",
       "      <td>...</td>\n",
       "      <td>F</td>\n",
       "      <td>Relacionado</td>\n",
       "      <td>Leve</td>\n",
       "      <td>Colombia</td>\n",
       "      <td>2020-05-18T00:00:00.000</td>\n",
       "      <td>NaN</td>\n",
       "      <td>2020-05-29T00:00:00.000</td>\n",
       "      <td>NaN</td>\n",
       "      <td>2020-05-29T00:00:00.000</td>\n",
       "      <td>35</td>\n",
       "    </tr>\n",
       "  </tbody>\n",
       "</table>\n",
       "<p>5 rows × 25 columns</p>\n",
       "</div>"
      ],
      "text/plain": [
       "            index NOMBRE DPTO COD_MPIO NOMBRE MPIO SEXOS Rango_Edad  Personas  \\\n",
       "20339564  1799781   Antioquia     5147      Carepa     M      25-29         1   \n",
       "20612733  2408261   Antioquia     5361     Ituango     M      20-24         1   \n",
       "20658295  2409924   Antioquia     5361     Ituango     M      25-29         1   \n",
       "20707044  2411297   Antioquia     5361     Ituango     M      30-34         1   \n",
       "31596607  4752356   Antioquia     5088       Bello     F      35-39         1   \n",
       "\n",
       "                 Key  ID de caso    Fecha de notificación  ... Sexo  \\\n",
       "20339564  25-29M5147       21771  2020-05-23T00:00:00.000  ...    M   \n",
       "20612733  20-24M5361       21774  2020-05-25T00:00:00.000  ...    M   \n",
       "20658295  25-29M5361       21830  2020-05-25T00:00:00.000  ...    M   \n",
       "20707044  30-34M5361       20209  2020-05-22T00:00:00.000  ...    M   \n",
       "31596607  35-39F5088       26056  2020-05-23T00:00:00.000  ...    F   \n",
       "\n",
       "                 Tipo        Estado País de procedencia  \\\n",
       "20339564  Relacionado          Leve            Colombia   \n",
       "20612733  Relacionado  Asintomático            Colombia   \n",
       "20658295  Relacionado  Asintomático            Colombia   \n",
       "20707044  Relacionado  Asintomático            Colombia   \n",
       "31596607  Relacionado          Leve            Colombia   \n",
       "\n",
       "                              FIS Fecha de muerte        Fecha diagnostico  \\\n",
       "20339564  2020-05-22T00:00:00.000             NaN  2020-05-25T00:00:00.000   \n",
       "20612733             Asintomático             NaN  2020-05-25T00:00:00.000   \n",
       "20658295             Asintomático             NaN  2020-05-25T00:00:00.000   \n",
       "20707044             Asintomático           -   -  2020-05-23T00:00:00.000   \n",
       "31596607  2020-05-18T00:00:00.000             NaN  2020-05-29T00:00:00.000   \n",
       "\n",
       "         Fecha recuperado        fecha reporte web Edad_2  \n",
       "20339564              NaN  2020-05-25T00:00:00.000     25  \n",
       "20612733              NaN  2020-05-25T00:00:00.000     22  \n",
       "20658295              NaN  2020-05-25T00:00:00.000     28  \n",
       "20707044              NaN  2020-05-23T00:00:00.000     30  \n",
       "31596607              NaN  2020-05-29T00:00:00.000     35  \n",
       "\n",
       "[5 rows x 25 columns]"
      ]
     },
     "execution_count": 41,
     "metadata": {},
     "output_type": "execute_result"
    }
   ],
   "source": [
    "duplicateRowsDF = consolidado[consolidado['index'].duplicated()]\n",
    "duplicateRowsDF"
   ]
  },
  {
   "cell_type": "code",
   "execution_count": 54,
   "metadata": {},
   "outputs": [],
   "source": [
    "consolidado1.to_csv(r\"C:\\Users\\NicolasBernal\\Documents\\GitHub\\Datos-Colombia\\input\\pruebaf1.csv\", index = False)\n",
    "consolidado2.to_csv(r\"C:\\Users\\NicolasBernal\\Documents\\GitHub\\Datos-Colombia\\input\\pruebaf2.csv\", index = False)"
   ]
  },
  {
   "cell_type": "code",
   "execution_count": null,
   "metadata": {},
   "outputs": [],
   "source": [
    "print(consolidado.groupby(['index']).sum())"
   ]
  },
  {
   "cell_type": "code",
   "execution_count": null,
   "metadata": {},
   "outputs": [],
   "source": [
    "#Tenemos index repetidos. Sin embargo la combinación idex, Id de caso no está repetida\n",
    "#Tenemos como reto que cuando vayamos a unir la base, quitar la cantidad de filas correspondiente a la llave de la tabla de Dummies\n",
    "#De pronto hacer un DropDuplicates según la llave y el caso y ahí si reset index. "
   ]
  },
  {
   "cell_type": "code",
   "execution_count": null,
   "metadata": {},
   "outputs": [],
   "source": [
    "newdane = pd.read_csv(r\"C:\\Users\\NicolasBernal\\Documents\\GitHub\\Datos-Colombia\\input\\Inicial_terminado.csv\")"
   ]
  },
  {
   "cell_type": "code",
   "execution_count": null,
   "metadata": {},
   "outputs": [],
   "source": [
    "newdane['COD_MPIO'] = newdane['COD_MPIO'].apply(str)\n",
    "newdane['Key'] = newdane['Rango_Edad'] + newdane['SEXOS'] + newdane['COD_MPIO']"
   ]
  },
  {
   "cell_type": "code",
   "execution_count": null,
   "metadata": {},
   "outputs": [],
   "source": [
    "newdane"
   ]
  },
  {
   "cell_type": "code",
   "execution_count": null,
   "metadata": {},
   "outputs": [],
   "source": [
    "df_out = newdane.set_index('Key').combine_first(consolidado.set_index('Key'))\\\n",
    "     .reindex(newdane.Key)\\\n",
    "     .reset_index()"
   ]
  },
  {
   "cell_type": "code",
   "execution_count": null,
   "metadata": {},
   "outputs": [],
   "source": [
    "df_out"
   ]
  },
  {
   "cell_type": "code",
   "execution_count": null,
   "metadata": {},
   "outputs": [],
   "source": []
  }
 ],
 "metadata": {
  "kernelspec": {
   "display_name": "Python 3",
   "language": "python",
   "name": "python3"
  },
  "language_info": {
   "codemirror_mode": {
    "name": "ipython",
    "version": 3
   },
   "file_extension": ".py",
   "mimetype": "text/x-python",
   "name": "python",
   "nbconvert_exporter": "python",
   "pygments_lexer": "ipython3",
   "version": "3.7.4"
  }
 },
 "nbformat": 4,
 "nbformat_minor": 2
}
